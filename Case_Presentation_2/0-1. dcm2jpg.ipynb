{
 "cells": [
  {
   "cell_type": "code",
   "execution_count": 2,
   "id": "bb14e3ff",
   "metadata": {},
   "outputs": [],
   "source": [
    "import os\n",
    "import cv2\n",
    "import glob\n",
    "import numpy as np\n",
    "import pydicom as dicom\n",
    "import matplotlib.pyplot as plt"
   ]
  },
  {
   "cell_type": "code",
   "execution_count": 3,
   "id": "198d7df8",
   "metadata": {},
   "outputs": [
    {
     "data": {
      "text/plain": [
       "[]"
      ]
     },
     "execution_count": 3,
     "metadata": {},
     "output_type": "execute_result"
    }
   ],
   "source": [
    "dcm_paths = []\n",
    "for dcm_file in glob.glob(\"data/valid/*/*/*.dcm\"):\n",
    "    dcm_paths.append(dcm_file)\n",
    "dcm_paths"
   ]
  },
  {
   "cell_type": "code",
   "execution_count": 4,
   "id": "17ca00dd",
   "metadata": {
    "scrolled": true
   },
   "outputs": [],
   "source": [
    "def dcm2jpg(ds, dcm_name):\n",
    "    img = ds.pixel_array\n",
    "    img_2d = img.astype(float)\n",
    "    img_2d_scaled = (np.maximum(img_2d,0) / img_2d.max()) * 255.0\n",
    "    img_2d_scaled = np.uint8(img_2d_scaled)\n",
    "    img_2d_scaled = cv2.resize(img_2d_scaled, (512,512))    # same size \n",
    "\n",
    "    cv2.imwrite('img/valid/{}.jpg'.format(dcm_name), img_2d_scaled)"
   ]
  },
  {
   "cell_type": "code",
   "execution_count": 5,
   "id": "e902ac0e",
   "metadata": {},
   "outputs": [],
   "source": [
    "for dcm_path in dcm_paths:\n",
    "    dcm_name = dcm_path.split(\"/\")[-1].replace(\".dcm\",\"\")\n",
    "    print(dcm_name)\n",
    "    ds = dicom.dcmread(dcm_path)\n",
    "    dcm2jpg(ds, dcm_name) \n",
    "    "
   ]
  },
  {
   "cell_type": "code",
   "execution_count": null,
   "id": "8bb1d699",
   "metadata": {},
   "outputs": [],
   "source": []
  }
 ],
 "metadata": {
  "kernelspec": {
   "display_name": "Python 3",
   "language": "python",
   "name": "python3"
  },
  "language_info": {
   "codemirror_mode": {
    "name": "ipython",
    "version": 3
   },
   "file_extension": ".py",
   "mimetype": "text/x-python",
   "name": "python",
   "nbconvert_exporter": "python",
   "pygments_lexer": "ipython3",
   "version": "3.8.8"
  }
 },
 "nbformat": 4,
 "nbformat_minor": 5
}
