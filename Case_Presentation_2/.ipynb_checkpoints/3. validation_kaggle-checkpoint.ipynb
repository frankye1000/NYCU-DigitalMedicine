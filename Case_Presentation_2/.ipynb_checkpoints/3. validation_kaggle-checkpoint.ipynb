{
 "cells": [
  {
   "cell_type": "code",
   "execution_count": 1,
   "id": "10324caf",
   "metadata": {},
   "outputs": [],
   "source": [
    "import cv2\n",
    "import joblib\n",
    "import numpy as np\n",
    "import pandas as pd\n",
    "import matplotlib.pyplot as plt\n",
    "\n",
    "import keras\n",
    "from keras.models import Sequential\n",
    "from keras.layers import Conv2D, MaxPooling2D, Dropout, Dense, Flatten, BatchNormalization"
   ]
  },
  {
   "cell_type": "markdown",
   "id": "044a2ac3",
   "metadata": {},
   "source": []
  },
  {
   "cell_type": "code",
   "execution_count": 2,
   "id": "586a9cb6",
   "metadata": {
    "scrolled": false
   },
   "outputs": [
    {
     "data": {
      "text/html": [
       "<div>\n",
       "<style scoped>\n",
       "    .dataframe tbody tr th:only-of-type {\n",
       "        vertical-align: middle;\n",
       "    }\n",
       "\n",
       "    .dataframe tbody tr th {\n",
       "        vertical-align: top;\n",
       "    }\n",
       "\n",
       "    .dataframe thead th {\n",
       "        text-align: right;\n",
       "    }\n",
       "</style>\n",
       "<table border=\"1\" class=\"dataframe\">\n",
       "  <thead>\n",
       "    <tr style=\"text-align: right;\">\n",
       "      <th></th>\n",
       "      <th>FileID</th>\n",
       "      <th>Type</th>\n",
       "    </tr>\n",
       "  </thead>\n",
       "  <tbody>\n",
       "    <tr>\n",
       "      <th>0</th>\n",
       "      <td>014cc6362544</td>\n",
       "      <td>Atypical</td>\n",
       "    </tr>\n",
       "    <tr>\n",
       "      <th>1</th>\n",
       "      <td>014f6b975233</td>\n",
       "      <td>Typical</td>\n",
       "    </tr>\n",
       "    <tr>\n",
       "      <th>2</th>\n",
       "      <td>04d7e099eafa</td>\n",
       "      <td>Atypical</td>\n",
       "    </tr>\n",
       "    <tr>\n",
       "      <th>3</th>\n",
       "      <td>05a7f46635c7</td>\n",
       "      <td>Typical</td>\n",
       "    </tr>\n",
       "    <tr>\n",
       "      <th>4</th>\n",
       "      <td>05e002867b16</td>\n",
       "      <td>Typical</td>\n",
       "    </tr>\n",
       "    <tr>\n",
       "      <th>...</th>\n",
       "      <td>...</td>\n",
       "      <td>...</td>\n",
       "    </tr>\n",
       "    <tr>\n",
       "      <th>145</th>\n",
       "      <td>f6a9cee1149d</td>\n",
       "      <td>Typical</td>\n",
       "    </tr>\n",
       "    <tr>\n",
       "      <th>146</th>\n",
       "      <td>f75463651b85</td>\n",
       "      <td>Atypical</td>\n",
       "    </tr>\n",
       "    <tr>\n",
       "      <th>147</th>\n",
       "      <td>f7f391fe9a3c</td>\n",
       "      <td>Typical</td>\n",
       "    </tr>\n",
       "    <tr>\n",
       "      <th>148</th>\n",
       "      <td>fb31eeb4f056</td>\n",
       "      <td>Negative</td>\n",
       "    </tr>\n",
       "    <tr>\n",
       "      <th>149</th>\n",
       "      <td>fd0516801814</td>\n",
       "      <td>Typical</td>\n",
       "    </tr>\n",
       "  </tbody>\n",
       "</table>\n",
       "<p>150 rows × 2 columns</p>\n",
       "</div>"
      ],
      "text/plain": [
       "           FileID      Type\n",
       "0    014cc6362544  Atypical\n",
       "1    014f6b975233   Typical\n",
       "2    04d7e099eafa  Atypical\n",
       "3    05a7f46635c7   Typical\n",
       "4    05e002867b16   Typical\n",
       "..            ...       ...\n",
       "145  f6a9cee1149d   Typical\n",
       "146  f75463651b85  Atypical\n",
       "147  f7f391fe9a3c   Typical\n",
       "148  fb31eeb4f056  Negative\n",
       "149  fd0516801814   Typical\n",
       "\n",
       "[150 rows x 2 columns]"
      ]
     },
     "execution_count": 2,
     "metadata": {},
     "output_type": "execute_result"
    }
   ],
   "source": [
    "sample_submission = pd.read_csv(\"sample_submission.csv\")\n",
    "sample_submission"
   ]
  },
  {
   "cell_type": "code",
   "execution_count": 3,
   "id": "ecb2d107",
   "metadata": {},
   "outputs": [],
   "source": [
    "fileids = sample_submission['FileID'].tolist()"
   ]
  },
  {
   "cell_type": "code",
   "execution_count": null,
   "id": "fabd1b6c",
   "metadata": {},
   "outputs": [],
   "source": []
  },
  {
   "cell_type": "markdown",
   "id": "77f5c46a",
   "metadata": {},
   "source": [
    "# ML valid img data"
   ]
  },
  {
   "cell_type": "code",
   "execution_count": 57,
   "id": "94b720c3",
   "metadata": {
    "scrolled": true
   },
   "outputs": [
    {
     "name": "stdout",
     "output_type": "stream",
     "text": [
      "(150, 65536)\n"
     ]
    }
   ],
   "source": [
    "# rf 的驗證資料格式\n",
    "X = []\n",
    "for fileid in fileids:\n",
    "    pixel_array = plt.imread(\"img/valid/{}.jpg\".format(fileid))\n",
    "    pixel_array = cv2.resize(pixel_array, (256,256))   # some size\n",
    "    pixel_array = pixel_array.reshape(-1)\n",
    "    X.append(pixel_array)\n",
    "    \n",
    "X = np.array(X)\n",
    "X = X.astype(\"float16\")\n",
    "# 檢查\n",
    "print(X.shape)"
   ]
  },
  {
   "cell_type": "code",
   "execution_count": null,
   "id": "e824f5ab",
   "metadata": {},
   "outputs": [],
   "source": []
  },
  {
   "cell_type": "markdown",
   "id": "7f54a28c",
   "metadata": {},
   "source": [
    "# load rf model"
   ]
  },
  {
   "cell_type": "code",
   "execution_count": 4,
   "id": "c0d37ef9",
   "metadata": {},
   "outputs": [
    {
     "ename": "FileNotFoundError",
     "evalue": "[Errno 2] No such file or directory: 'model/rf_20211116.joblib'",
     "output_type": "error",
     "traceback": [
      "\u001b[1;31m---------------------------------------------------------------------------\u001b[0m",
      "\u001b[1;31mFileNotFoundError\u001b[0m                         Traceback (most recent call last)",
      "\u001b[1;32m<ipython-input-4-6faa9c10d104>\u001b[0m in \u001b[0;36m<module>\u001b[1;34m\u001b[0m\n\u001b[1;32m----> 1\u001b[1;33m \u001b[0mrf\u001b[0m \u001b[1;33m=\u001b[0m \u001b[0mjoblib\u001b[0m\u001b[1;33m.\u001b[0m\u001b[0mload\u001b[0m\u001b[1;33m(\u001b[0m\u001b[1;34m\"model/rf_20211116.joblib\"\u001b[0m\u001b[1;33m)\u001b[0m\u001b[1;33m\u001b[0m\u001b[1;33m\u001b[0m\u001b[0m\n\u001b[0m",
      "\u001b[1;32m~\\anaconda3\\lib\\site-packages\\joblib\\numpy_pickle.py\u001b[0m in \u001b[0;36mload\u001b[1;34m(filename, mmap_mode)\u001b[0m\n\u001b[0;32m    575\u001b[0m             \u001b[0mobj\u001b[0m \u001b[1;33m=\u001b[0m \u001b[0m_unpickle\u001b[0m\u001b[1;33m(\u001b[0m\u001b[0mfobj\u001b[0m\u001b[1;33m)\u001b[0m\u001b[1;33m\u001b[0m\u001b[1;33m\u001b[0m\u001b[0m\n\u001b[0;32m    576\u001b[0m     \u001b[1;32melse\u001b[0m\u001b[1;33m:\u001b[0m\u001b[1;33m\u001b[0m\u001b[1;33m\u001b[0m\u001b[0m\n\u001b[1;32m--> 577\u001b[1;33m         \u001b[1;32mwith\u001b[0m \u001b[0mopen\u001b[0m\u001b[1;33m(\u001b[0m\u001b[0mfilename\u001b[0m\u001b[1;33m,\u001b[0m \u001b[1;34m'rb'\u001b[0m\u001b[1;33m)\u001b[0m \u001b[1;32mas\u001b[0m \u001b[0mf\u001b[0m\u001b[1;33m:\u001b[0m\u001b[1;33m\u001b[0m\u001b[1;33m\u001b[0m\u001b[0m\n\u001b[0m\u001b[0;32m    578\u001b[0m             \u001b[1;32mwith\u001b[0m \u001b[0m_read_fileobject\u001b[0m\u001b[1;33m(\u001b[0m\u001b[0mf\u001b[0m\u001b[1;33m,\u001b[0m \u001b[0mfilename\u001b[0m\u001b[1;33m,\u001b[0m \u001b[0mmmap_mode\u001b[0m\u001b[1;33m)\u001b[0m \u001b[1;32mas\u001b[0m \u001b[0mfobj\u001b[0m\u001b[1;33m:\u001b[0m\u001b[1;33m\u001b[0m\u001b[1;33m\u001b[0m\u001b[0m\n\u001b[0;32m    579\u001b[0m                 \u001b[1;32mif\u001b[0m \u001b[0misinstance\u001b[0m\u001b[1;33m(\u001b[0m\u001b[0mfobj\u001b[0m\u001b[1;33m,\u001b[0m \u001b[0mstr\u001b[0m\u001b[1;33m)\u001b[0m\u001b[1;33m:\u001b[0m\u001b[1;33m\u001b[0m\u001b[1;33m\u001b[0m\u001b[0m\n",
      "\u001b[1;31mFileNotFoundError\u001b[0m: [Errno 2] No such file or directory: 'model/rf_20211116.joblib'"
     ]
    }
   ],
   "source": [
    "rf = joblib.load(\"model/rf_20211116.joblib\")"
   ]
  },
  {
   "cell_type": "code",
   "execution_count": 41,
   "id": "2f01ee9a",
   "metadata": {},
   "outputs": [],
   "source": [
    "# predition\n",
    "rf_pred = rf.predict(X)\n",
    "\n",
    "\n",
    "# type\n",
    "type_dict = {0:'Negative',\n",
    "             1:'Typical',\n",
    "             2:'Atypical'}\n",
    "\n",
    "# label to type\n",
    "types = [type_dict[pred] for pred in rf_pred]\n",
    "sample_submission[\"Type\"] = types\n",
    "\n",
    "# save \n",
    "sample_submission.to_csv(\"sample_submission.csv\", index=False)"
   ]
  },
  {
   "cell_type": "code",
   "execution_count": null,
   "id": "5b3e8739",
   "metadata": {},
   "outputs": [],
   "source": []
  },
  {
   "cell_type": "markdown",
   "id": "b6063aad",
   "metadata": {},
   "source": [
    "# load xgboost model"
   ]
  },
  {
   "cell_type": "code",
   "execution_count": 55,
   "id": "e0d851b0",
   "metadata": {},
   "outputs": [],
   "source": [
    "xgboost = joblib.load(\"model/xgboost_20211116.joblib\")"
   ]
  },
  {
   "cell_type": "code",
   "execution_count": 59,
   "id": "bfee860c",
   "metadata": {},
   "outputs": [],
   "source": [
    "# predition\n",
    "xgboost_pred = xgboost.predict(X)\n",
    "\n",
    "\n",
    "# type\n",
    "type_dict = {0:'Negative',\n",
    "             1:'Typical',\n",
    "             2:'Atypical'}\n",
    "\n",
    "# label to type\n",
    "types = [type_dict[pred] for pred in xgboost_pred]\n",
    "sample_submission[\"Type\"] = types\n",
    "\n",
    "# save \n",
    "sample_submission.to_csv(\"sample_submission.csv\", index=False)"
   ]
  },
  {
   "cell_type": "code",
   "execution_count": null,
   "id": "0f7f7c88",
   "metadata": {},
   "outputs": [],
   "source": []
  },
  {
   "cell_type": "markdown",
   "id": "ee85d9ff",
   "metadata": {},
   "source": [
    "# cnn valid img data"
   ]
  },
  {
   "cell_type": "code",
   "execution_count": 8,
   "id": "c6bace69",
   "metadata": {},
   "outputs": [
    {
     "name": "stdout",
     "output_type": "stream",
     "text": [
      "(150, 1, 32, 32)\n"
     ]
    }
   ],
   "source": [
    "# cnn 資料驗證格式\n",
    "X = []\n",
    "for fileid in fileids:\n",
    "    pixel_array = plt.imread(\"img/valid/{}.jpg\".format(fileid))\n",
    "    pixel_array = cv2.resize(pixel_array, (32,32))   # some size\n",
    "    X.append([pixel_array])\n",
    "    \n",
    "X = np.array(X)\n",
    "X = X.astype(\"float16\")\n",
    "# 檢查\n",
    "print(X.shape)"
   ]
  },
  {
   "cell_type": "markdown",
   "id": "2d1b8c8a",
   "metadata": {},
   "source": [
    "# load cnn model"
   ]
  },
  {
   "cell_type": "code",
   "execution_count": 9,
   "id": "1949cfda",
   "metadata": {},
   "outputs": [],
   "source": [
    "cnn = keras.models.load_model('model/cnn_20211116.md')"
   ]
  },
  {
   "cell_type": "code",
   "execution_count": 10,
   "id": "b8558131",
   "metadata": {},
   "outputs": [],
   "source": [
    "# predition\n",
    "cnn_pred = cnn.predict(X)\n",
    "cnn_pred = np.argmax(cnn_pred, axis=1)\n",
    "\n",
    "# type\n",
    "type_dict = {0:'Negative',\n",
    "             1:'Typical',\n",
    "             2:'Atypical'}\n",
    "\n",
    "# label to type\n",
    "types = [type_dict[pred] for pred in cnn_pred]\n",
    "sample_submission[\"Type\"] = types\n",
    "\n",
    "# # save \n",
    "sample_submission.to_csv(\"sample_submission.csv\", index=False)"
   ]
  },
  {
   "cell_type": "code",
   "execution_count": 30,
   "id": "cd0ec417",
   "metadata": {},
   "outputs": [],
   "source": []
  },
  {
   "cell_type": "code",
   "execution_count": null,
   "id": "b7cff8a7",
   "metadata": {},
   "outputs": [],
   "source": []
  },
  {
   "cell_type": "code",
   "execution_count": null,
   "id": "75f20c06",
   "metadata": {},
   "outputs": [],
   "source": []
  },
  {
   "cell_type": "code",
   "execution_count": null,
   "id": "acf58660",
   "metadata": {},
   "outputs": [],
   "source": []
  },
  {
   "cell_type": "code",
   "execution_count": null,
   "id": "7fb5fb93",
   "metadata": {},
   "outputs": [],
   "source": []
  },
  {
   "cell_type": "code",
   "execution_count": null,
   "id": "97fab2f9",
   "metadata": {},
   "outputs": [],
   "source": []
  },
  {
   "cell_type": "code",
   "execution_count": null,
   "id": "0c9618fb",
   "metadata": {},
   "outputs": [],
   "source": []
  },
  {
   "cell_type": "code",
   "execution_count": null,
   "id": "5b8273a9",
   "metadata": {},
   "outputs": [],
   "source": []
  }
 ],
 "metadata": {
  "kernelspec": {
   "display_name": "Python 3",
   "language": "python",
   "name": "python3"
  },
  "language_info": {
   "codemirror_mode": {
    "name": "ipython",
    "version": 3
   },
   "file_extension": ".py",
   "mimetype": "text/x-python",
   "name": "python",
   "nbconvert_exporter": "python",
   "pygments_lexer": "ipython3",
   "version": "3.8.8"
  }
 },
 "nbformat": 4,
 "nbformat_minor": 5
}
