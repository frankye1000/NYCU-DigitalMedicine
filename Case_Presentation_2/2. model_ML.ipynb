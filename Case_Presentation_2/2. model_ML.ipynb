{
 "cells": [
  {
   "cell_type": "code",
   "execution_count": 20,
   "metadata": {},
   "outputs": [],
   "source": [
    "import cv2\n",
    "import joblib\n",
    "import numpy as np\n",
    "import pandas as pd\n",
    "import matplotlib.pyplot as plt\n",
    "\n",
    "import keras\n",
    "from keras.models import Sequential\n",
    "from keras.layers import Conv2D, MaxPooling2D, Dropout, Dense, Flatten, BatchNormalization\n",
    "\n",
    "from sklearn.ensemble import RandomForestClassifier\n",
    "from sklearn.model_selection import train_test_split"
   ]
  },
  {
   "cell_type": "code",
   "execution_count": 3,
   "metadata": {},
   "outputs": [
    {
     "data": {
      "text/html": [
       "<div>\n",
       "<style scoped>\n",
       "    .dataframe tbody tr th:only-of-type {\n",
       "        vertical-align: middle;\n",
       "    }\n",
       "\n",
       "    .dataframe tbody tr th {\n",
       "        vertical-align: top;\n",
       "    }\n",
       "\n",
       "    .dataframe thead th {\n",
       "        text-align: right;\n",
       "    }\n",
       "</style>\n",
       "<table border=\"1\" class=\"dataframe\">\n",
       "  <thead>\n",
       "    <tr style=\"text-align: right;\">\n",
       "      <th></th>\n",
       "      <th>FileID</th>\n",
       "      <th>Negative</th>\n",
       "      <th>Typical</th>\n",
       "      <th>Atypical</th>\n",
       "    </tr>\n",
       "  </thead>\n",
       "  <tbody>\n",
       "    <tr>\n",
       "      <th>0</th>\n",
       "      <td>0003b2210c64</td>\n",
       "      <td>0</td>\n",
       "      <td>1</td>\n",
       "      <td>0</td>\n",
       "    </tr>\n",
       "    <tr>\n",
       "      <th>1</th>\n",
       "      <td>00af6f8c2a3d</td>\n",
       "      <td>1</td>\n",
       "      <td>0</td>\n",
       "      <td>0</td>\n",
       "    </tr>\n",
       "    <tr>\n",
       "      <th>2</th>\n",
       "      <td>00c9033fbc2e</td>\n",
       "      <td>0</td>\n",
       "      <td>0</td>\n",
       "      <td>1</td>\n",
       "    </tr>\n",
       "    <tr>\n",
       "      <th>3</th>\n",
       "      <td>00e0ce73dac8</td>\n",
       "      <td>0</td>\n",
       "      <td>0</td>\n",
       "      <td>1</td>\n",
       "    </tr>\n",
       "    <tr>\n",
       "      <th>4</th>\n",
       "      <td>00f0a591f18a</td>\n",
       "      <td>0</td>\n",
       "      <td>1</td>\n",
       "      <td>0</td>\n",
       "    </tr>\n",
       "    <tr>\n",
       "      <th>...</th>\n",
       "      <td>...</td>\n",
       "      <td>...</td>\n",
       "      <td>...</td>\n",
       "      <td>...</td>\n",
       "    </tr>\n",
       "    <tr>\n",
       "      <th>1195</th>\n",
       "      <td>ff60a32aa049</td>\n",
       "      <td>0</td>\n",
       "      <td>0</td>\n",
       "      <td>1</td>\n",
       "    </tr>\n",
       "    <tr>\n",
       "      <th>1196</th>\n",
       "      <td>ff9666e69d19</td>\n",
       "      <td>0</td>\n",
       "      <td>1</td>\n",
       "      <td>0</td>\n",
       "    </tr>\n",
       "    <tr>\n",
       "      <th>1197</th>\n",
       "      <td>ff971972490d</td>\n",
       "      <td>1</td>\n",
       "      <td>0</td>\n",
       "      <td>0</td>\n",
       "    </tr>\n",
       "    <tr>\n",
       "      <th>1198</th>\n",
       "      <td>ffb804652089</td>\n",
       "      <td>1</td>\n",
       "      <td>0</td>\n",
       "      <td>0</td>\n",
       "    </tr>\n",
       "    <tr>\n",
       "      <th>1199</th>\n",
       "      <td>ffccc731298b</td>\n",
       "      <td>0</td>\n",
       "      <td>0</td>\n",
       "      <td>1</td>\n",
       "    </tr>\n",
       "  </tbody>\n",
       "</table>\n",
       "<p>1200 rows × 4 columns</p>\n",
       "</div>"
      ],
      "text/plain": [
       "            FileID  Negative  Typical  Atypical\n",
       "0     0003b2210c64         0        1         0\n",
       "1     00af6f8c2a3d         1        0         0\n",
       "2     00c9033fbc2e         0        0         1\n",
       "3     00e0ce73dac8         0        0         1\n",
       "4     00f0a591f18a         0        1         0\n",
       "...            ...       ...      ...       ...\n",
       "1195  ff60a32aa049         0        0         1\n",
       "1196  ff9666e69d19         0        1         0\n",
       "1197  ff971972490d         1        0         0\n",
       "1198  ffb804652089         1        0         0\n",
       "1199  ffccc731298b         0        0         1\n",
       "\n",
       "[1200 rows x 4 columns]"
      ]
     },
     "execution_count": 3,
     "metadata": {},
     "output_type": "execute_result"
    }
   ],
   "source": [
    "info = pd.read_csv(\"_info.csv\")\n",
    "info"
   ]
  },
  {
   "cell_type": "code",
   "execution_count": 30,
   "metadata": {},
   "outputs": [],
   "source": [
    "y_OneHot = np.array(info[['Negative','Typical','Atypical']])\n",
    "y = np.argmax(y_OneHot, axis=1)"
   ]
  },
  {
   "cell_type": "code",
   "execution_count": 17,
   "metadata": {},
   "outputs": [
    {
     "name": "stdout",
     "output_type": "stream",
     "text": [
      "(1200, 65536)\n"
     ]
    }
   ],
   "source": [
    "fileids = info['FileID'].tolist()\n",
    "X = []\n",
    "for fileid in fileids:\n",
    "    pixel_array = plt.imread(\"img/train/{}.jpg\".format(fileid))\n",
    "    pixel_array = cv2.resize(pixel_array, (256,256))   # some size\n",
    "    pixel_array = pixel_array.reshape(-1)\n",
    "    X.append(pixel_array)\n",
    "    \n",
    "X = np.array(X)\n",
    "X = X.astype(\"float16\")\n",
    "# 檢查\n",
    "print(X.shape)"
   ]
  },
  {
   "cell_type": "markdown",
   "metadata": {},
   "source": [
    "# train、test dataset"
   ]
  },
  {
   "cell_type": "code",
   "execution_count": 31,
   "metadata": {},
   "outputs": [],
   "source": [
    "X_train, X_test, y_train, y_test = train_test_split(X, y, test_size=0.2, random_state=42)"
   ]
  },
  {
   "cell_type": "code",
   "execution_count": null,
   "metadata": {},
   "outputs": [],
   "source": []
  },
  {
   "cell_type": "markdown",
   "metadata": {},
   "source": [
    "# random forest"
   ]
  },
  {
   "cell_type": "code",
   "execution_count": 38,
   "metadata": {
    "scrolled": true
   },
   "outputs": [
    {
     "name": "stdout",
     "output_type": "stream",
     "text": [
      "0.49166666666666664\n"
     ]
    }
   ],
   "source": [
    "clf = RandomForestClassifier(max_depth=500, max_features=500)\n",
    "clf.fit(X_train, y_train)\n",
    "print(clf.score(X_test, y_test))\n",
    "\n",
    "# save\n",
    "joblib.dump(clf, \"model/rf_20211116.joblib\")"
   ]
  },
  {
   "cell_type": "code",
   "execution_count": null,
   "metadata": {},
   "outputs": [],
   "source": []
  },
  {
   "cell_type": "markdown",
   "metadata": {},
   "source": [
    "# Xgboost"
   ]
  },
  {
   "cell_type": "code",
   "execution_count": 42,
   "metadata": {},
   "outputs": [
    {
     "name": "stderr",
     "output_type": "stream",
     "text": [
      "/home/frank100/.local/lib/python3.6/site-packages/xgboost/sklearn.py:1224: UserWarning: The use of label encoder in XGBClassifier is deprecated and will be removed in a future release. To remove this warning, do the following: 1) Pass option use_label_encoder=False when constructing XGBClassifier object; and 2) Encode your labels (y) as integers starting with 0, i.e. 0, 1, 2, ..., [num_class - 1].\n",
      "  warnings.warn(label_encoder_deprecation_msg, UserWarning)\n"
     ]
    },
    {
     "name": "stdout",
     "output_type": "stream",
     "text": [
      "Accuracy : 0.5\n"
     ]
    },
    {
     "data": {
      "text/plain": [
       "['model/xgboost_20211116.joblib']"
      ]
     },
     "execution_count": 42,
     "metadata": {},
     "output_type": "execute_result"
    }
   ],
   "source": [
    "from sklearn import metrics\n",
    "from xgboost.sklearn import XGBClassifier\n",
    "\n",
    "\n",
    "clf = XGBClassifier(\n",
    "        #樹的個數\n",
    "        n_estimators=1000,\n",
    "        # 如同學習率\n",
    "        learning_rate= 0.3, \n",
    "        # 構建樹的深度，越大越容易過擬合    \n",
    "        max_depth=50, \n",
    "        # 隨機取樣訓練樣本 訓練例項的子取樣比\n",
    "        subsample=1, \n",
    "        # 用於控制是否後剪枝的引數,越大越保守，一般0.1、0.2這樣子\n",
    "        gamma=0, \n",
    "        # 控制模型複雜度的權重值的L2正則化項引數，引數越大，模型越不容易過擬合。\n",
    "        reg_lambda=1,  \n",
    "        \n",
    "        #最大增量步長，我們允許每個樹的權重估計。\n",
    "        max_delta_step=0,\n",
    "        # 生成樹時進行的列取樣 \n",
    "        colsample_bytree=1, \n",
    "\n",
    "        # 這個引數預設是 1，是每個葉子裡面 h 的和至少是多少，對正負樣本不均衡時的 0-1 分類而言\n",
    "        # 假設 h 在 0.01 附近，min_child_weight 為 1 意味著葉子節點中最少需要包含 100 個樣本。\n",
    "        #這個引數非常影響結果，控制葉子節點中二階導的和的最小值，該引數值越小，越容易 overfitting。\n",
    "        min_child_weight=1, \n",
    "\n",
    "        #隨機種子\n",
    "        seed=1000 \n",
    "        \n",
    "        # L1 正則項引數\n",
    "#        reg_alpha=0,\n",
    "        \n",
    "        #如果取值大於0的話，在類別樣本不平衡的情況下有助於快速收斂。平衡正負權重\n",
    "        #scale_pos_weight=1,\n",
    "        \n",
    "        #多分類的問題 指定學習任務和相應的學習目標\n",
    "        #objective= 'multi:softmax', \n",
    "        \n",
    "        # 類別數，多分類與 multisoftmax 並用\n",
    "        #num_class=10,\n",
    "        \n",
    "        # 設定成1則沒有執行資訊輸出，最好是設定為0.是否在執行升級時列印訊息。\n",
    "#        silent=0 ,\n",
    "        # cpu 執行緒數 預設最大\n",
    "#        nthread=4,\n",
    "    \n",
    "        #eval_metric= 'auc'\n",
    ")\n",
    "\n",
    "# 模型 訓練\n",
    "clf.fit(X_train,y_train,eval_metric='auc')\n",
    "# 預測值\n",
    "y_pred=clf.predict(X_test)\n",
    "# 真實值 賦值\n",
    "y_true= y_test\n",
    "\n",
    "# 計算精度\n",
    "print(\"Accuracy : %.2g\" % metrics.accuracy_score(y_true, y_pred))\n",
    "\n",
    "# save\n",
    "joblib.dump(clf, \"model/xgboost_20211116.joblib\")"
   ]
  },
  {
   "cell_type": "code",
   "execution_count": null,
   "metadata": {},
   "outputs": [],
   "source": []
  }
 ],
 "metadata": {
  "kernelspec": {
   "display_name": "Python 3 (ipykernel)",
   "language": "python",
   "name": "python3"
  },
  "language_info": {
   "codemirror_mode": {
    "name": "ipython",
    "version": 3
   },
   "file_extension": ".py",
   "mimetype": "text/x-python",
   "name": "python",
   "nbconvert_exporter": "python",
   "pygments_lexer": "ipython3",
   "version": "3.6.9"
  }
 },
 "nbformat": 4,
 "nbformat_minor": 5
}
