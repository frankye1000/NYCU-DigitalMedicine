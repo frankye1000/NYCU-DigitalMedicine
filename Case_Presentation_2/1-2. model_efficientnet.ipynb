{
 "cells": [
  {
   "cell_type": "code",
   "execution_count": 1,
   "metadata": {},
   "outputs": [],
   "source": [
    "import cv2\n",
    "import numpy as np\n",
    "import pandas as pd\n",
    "import matplotlib.pyplot as plt\n",
    "\n",
    "import tensorflow as tf\n",
    "from tensorflow import keras \n",
    "from keras.models import Sequential\n",
    "from keras.layers import Conv2D, MaxPooling2D, Dropout, Dense, Flatten, BatchNormalization\n",
    "\n",
    "from sklearn.model_selection import train_test_split"
   ]
  },
  {
   "cell_type": "code",
   "execution_count": 2,
   "metadata": {
    "scrolled": true
   },
   "outputs": [
    {
     "data": {
      "text/html": [
       "<div>\n",
       "<style scoped>\n",
       "    .dataframe tbody tr th:only-of-type {\n",
       "        vertical-align: middle;\n",
       "    }\n",
       "\n",
       "    .dataframe tbody tr th {\n",
       "        vertical-align: top;\n",
       "    }\n",
       "\n",
       "    .dataframe thead th {\n",
       "        text-align: right;\n",
       "    }\n",
       "</style>\n",
       "<table border=\"1\" class=\"dataframe\">\n",
       "  <thead>\n",
       "    <tr style=\"text-align: right;\">\n",
       "      <th></th>\n",
       "      <th>FileID</th>\n",
       "      <th>Negative</th>\n",
       "      <th>Typical</th>\n",
       "      <th>Atypical</th>\n",
       "    </tr>\n",
       "  </thead>\n",
       "  <tbody>\n",
       "    <tr>\n",
       "      <th>0</th>\n",
       "      <td>0003b2210c64</td>\n",
       "      <td>0</td>\n",
       "      <td>1</td>\n",
       "      <td>0</td>\n",
       "    </tr>\n",
       "    <tr>\n",
       "      <th>1</th>\n",
       "      <td>00af6f8c2a3d</td>\n",
       "      <td>1</td>\n",
       "      <td>0</td>\n",
       "      <td>0</td>\n",
       "    </tr>\n",
       "    <tr>\n",
       "      <th>2</th>\n",
       "      <td>00c9033fbc2e</td>\n",
       "      <td>0</td>\n",
       "      <td>0</td>\n",
       "      <td>1</td>\n",
       "    </tr>\n",
       "    <tr>\n",
       "      <th>3</th>\n",
       "      <td>00e0ce73dac8</td>\n",
       "      <td>0</td>\n",
       "      <td>0</td>\n",
       "      <td>1</td>\n",
       "    </tr>\n",
       "    <tr>\n",
       "      <th>4</th>\n",
       "      <td>00f0a591f18a</td>\n",
       "      <td>0</td>\n",
       "      <td>1</td>\n",
       "      <td>0</td>\n",
       "    </tr>\n",
       "    <tr>\n",
       "      <th>...</th>\n",
       "      <td>...</td>\n",
       "      <td>...</td>\n",
       "      <td>...</td>\n",
       "      <td>...</td>\n",
       "    </tr>\n",
       "    <tr>\n",
       "      <th>1195</th>\n",
       "      <td>ff60a32aa049</td>\n",
       "      <td>0</td>\n",
       "      <td>0</td>\n",
       "      <td>1</td>\n",
       "    </tr>\n",
       "    <tr>\n",
       "      <th>1196</th>\n",
       "      <td>ff9666e69d19</td>\n",
       "      <td>0</td>\n",
       "      <td>1</td>\n",
       "      <td>0</td>\n",
       "    </tr>\n",
       "    <tr>\n",
       "      <th>1197</th>\n",
       "      <td>ff971972490d</td>\n",
       "      <td>1</td>\n",
       "      <td>0</td>\n",
       "      <td>0</td>\n",
       "    </tr>\n",
       "    <tr>\n",
       "      <th>1198</th>\n",
       "      <td>ffb804652089</td>\n",
       "      <td>1</td>\n",
       "      <td>0</td>\n",
       "      <td>0</td>\n",
       "    </tr>\n",
       "    <tr>\n",
       "      <th>1199</th>\n",
       "      <td>ffccc731298b</td>\n",
       "      <td>0</td>\n",
       "      <td>0</td>\n",
       "      <td>1</td>\n",
       "    </tr>\n",
       "  </tbody>\n",
       "</table>\n",
       "<p>1200 rows × 4 columns</p>\n",
       "</div>"
      ],
      "text/plain": [
       "            FileID  Negative  Typical  Atypical\n",
       "0     0003b2210c64         0        1         0\n",
       "1     00af6f8c2a3d         1        0         0\n",
       "2     00c9033fbc2e         0        0         1\n",
       "3     00e0ce73dac8         0        0         1\n",
       "4     00f0a591f18a         0        1         0\n",
       "...            ...       ...      ...       ...\n",
       "1195  ff60a32aa049         0        0         1\n",
       "1196  ff9666e69d19         0        1         0\n",
       "1197  ff971972490d         1        0         0\n",
       "1198  ffb804652089         1        0         0\n",
       "1199  ffccc731298b         0        0         1\n",
       "\n",
       "[1200 rows x 4 columns]"
      ]
     },
     "execution_count": 2,
     "metadata": {},
     "output_type": "execute_result"
    }
   ],
   "source": [
    "info = pd.read_csv(\"_info.csv\")\n",
    "info"
   ]
  },
  {
   "cell_type": "code",
   "execution_count": 3,
   "metadata": {
    "scrolled": true
   },
   "outputs": [
    {
     "data": {
      "text/plain": [
       "array([[0, 1, 0],\n",
       "       [1, 0, 0],\n",
       "       [0, 0, 1],\n",
       "       ...,\n",
       "       [1, 0, 0],\n",
       "       [1, 0, 0],\n",
       "       [0, 0, 1]], dtype=int64)"
      ]
     },
     "execution_count": 3,
     "metadata": {},
     "output_type": "execute_result"
    }
   ],
   "source": [
    "y_OneHot = np.array(info[['Negative','Typical','Atypical']])\n",
    "y_OneHot"
   ]
  },
  {
   "cell_type": "code",
   "execution_count": 14,
   "metadata": {
    "scrolled": true
   },
   "outputs": [
    {
     "name": "stdout",
     "output_type": "stream",
     "text": [
      "(1200, 260, 260, 3)\n"
     ]
    }
   ],
   "source": [
    "fileids = info['FileID'].tolist()\n",
    "X = []\n",
    "for fileid in fileids:\n",
    "    pixel_array = plt.imread(\"img/train_cut/{}.jpg\".format(fileid))\n",
    "    pixel_array = cv2.resize(pixel_array, (260,260))   # some size\n",
    "    pixel_array = cv2.cvtColor(pixel_array, cv2.COLOR_GRAY2RGB)    # Gray2RBG\n",
    "    X.append(pixel_array)\n",
    "    \n",
    "X = np.array(X)\n",
    "X = X.astype(\"float16\")\n",
    "# 檢查\n",
    "print(X.shape)"
   ]
  },
  {
   "cell_type": "markdown",
   "metadata": {},
   "source": [
    "# 訓練集 測試集"
   ]
  },
  {
   "cell_type": "code",
   "execution_count": 16,
   "metadata": {},
   "outputs": [],
   "source": [
    "X_train, X_test, y_train, y_test = train_test_split(X, y_OneHot, test_size=0.2)"
   ]
  },
  {
   "cell_type": "code",
   "execution_count": 17,
   "metadata": {},
   "outputs": [],
   "source": [
    "def show_loss(_history):\n",
    "    loss = _history.history['loss']\n",
    "    val_loss = _history.history['val_loss']\n",
    "    plt.plot(loss)\n",
    "    plt.plot(val_loss)\n",
    "    plt.xlabel('epoch')\n",
    "    plt.legend(['train', 'validation'], loc=\"upper right\")\n",
    "    plt.show()\n",
    "    \n",
    "    # accuracy\n",
    "    score = model.evaluate(X_test, y_test)\n",
    "    print(\"test acc\", score[1])\n",
    "    "
   ]
  },
  {
   "cell_type": "markdown",
   "metadata": {},
   "source": [
    "# EfficientNet Implementation :"
   ]
  },
  {
   "cell_type": "code",
   "execution_count": 18,
   "metadata": {},
   "outputs": [],
   "source": [
    "from tensorflow.keras import layers\n",
    "from tensorflow.keras.applications import EfficientNetB2\n",
    "\n",
    "NUM_CLASSES = 3\n",
    "IMG_SIZE = 260\n",
    "size = (IMG_SIZE, IMG_SIZE)\n",
    "\n",
    "\n",
    "inputs = layers.Input(shape=(IMG_SIZE, IMG_SIZE, 3))\n",
    "\n",
    "\n",
    "# Using model without transfer learning\n",
    "\n",
    "outputs = EfficientNetB2(include_top=True, weights=None, classes=NUM_CLASSES)(inputs)"
   ]
  },
  {
   "cell_type": "code",
   "execution_count": 8,
   "metadata": {
    "scrolled": true
   },
   "outputs": [
    {
     "name": "stdout",
     "output_type": "stream",
     "text": [
      "Model: \"model\"\n",
      "_________________________________________________________________\n",
      " Layer (type)                Output Shape              Param #   \n",
      "=================================================================\n",
      " input_1 (InputLayer)        [(None, 260, 260, 3)]     0         \n",
      "                                                                 \n",
      " efficientnetb2 (Functional)  (None, 3)                7772796   \n",
      "                                                                 \n",
      "=================================================================\n",
      "Total params: 7,772,796\n",
      "Trainable params: 7,705,221\n",
      "Non-trainable params: 67,575\n",
      "_________________________________________________________________\n",
      "Epoch 1/30\n",
      "768/768 - 94s - loss: 1.8441 - accuracy: 0.3372 - val_loss: 5.3868 - val_accuracy: 0.2812 - 94s/epoch - 122ms/step\n",
      "Epoch 2/30\n",
      "768/768 - 80s - loss: 1.3001 - accuracy: 0.3516 - val_loss: 1.8774 - val_accuracy: 0.3229 - 80s/epoch - 105ms/step\n",
      "Epoch 3/30\n",
      "768/768 - 81s - loss: 1.2110 - accuracy: 0.3190 - val_loss: 1.2444 - val_accuracy: 0.3698 - 81s/epoch - 105ms/step\n",
      "Epoch 4/30\n",
      "768/768 - 82s - loss: 1.2099 - accuracy: 0.3294 - val_loss: 1.2664 - val_accuracy: 0.3177 - 82s/epoch - 107ms/step\n",
      "Epoch 5/30\n",
      "768/768 - 84s - loss: 1.2027 - accuracy: 0.3099 - val_loss: 1.2135 - val_accuracy: 0.3750 - 84s/epoch - 109ms/step\n",
      "Epoch 6/30\n",
      "768/768 - 84s - loss: 1.1761 - accuracy: 0.3854 - val_loss: 1.1180 - val_accuracy: 0.3802 - 84s/epoch - 109ms/step\n",
      "Epoch 7/30\n",
      "768/768 - 84s - loss: 1.1863 - accuracy: 0.3320 - val_loss: 1.2357 - val_accuracy: 0.3490 - 84s/epoch - 109ms/step\n",
      "Epoch 8/30\n",
      "768/768 - 84s - loss: 1.1807 - accuracy: 0.3594 - val_loss: 1.1107 - val_accuracy: 0.3438 - 84s/epoch - 109ms/step\n",
      "Epoch 9/30\n",
      "768/768 - 84s - loss: 1.1804 - accuracy: 0.3503 - val_loss: 1.1630 - val_accuracy: 0.3646 - 84s/epoch - 109ms/step\n",
      "Epoch 10/30\n",
      "768/768 - 84s - loss: 1.1824 - accuracy: 0.3216 - val_loss: 1.2298 - val_accuracy: 0.3229 - 84s/epoch - 109ms/step\n",
      "Epoch 11/30\n",
      "768/768 - 84s - loss: 1.2347 - accuracy: 0.3060 - val_loss: 1.2997 - val_accuracy: 0.3021 - 84s/epoch - 109ms/step\n",
      "Epoch 12/30\n",
      "768/768 - 84s - loss: 1.1782 - accuracy: 0.3099 - val_loss: 1.1365 - val_accuracy: 0.3490 - 84s/epoch - 109ms/step\n",
      "Epoch 13/30\n",
      "768/768 - 84s - loss: 1.1936 - accuracy: 0.3138 - val_loss: 1.1077 - val_accuracy: 0.3490 - 84s/epoch - 110ms/step\n",
      "Epoch 14/30\n",
      "768/768 - 84s - loss: 1.1725 - accuracy: 0.3281 - val_loss: 1.3510 - val_accuracy: 0.2917 - 84s/epoch - 109ms/step\n",
      "Epoch 15/30\n",
      "768/768 - 87s - loss: 1.1651 - accuracy: 0.3490 - val_loss: 1.1561 - val_accuracy: 0.2865 - 87s/epoch - 113ms/step\n",
      "Epoch 16/30\n",
      "768/768 - 83s - loss: 1.1627 - accuracy: 0.3333 - val_loss: 1.6878 - val_accuracy: 0.3125 - 83s/epoch - 108ms/step\n",
      "Epoch 17/30\n",
      "768/768 - 83s - loss: 1.1716 - accuracy: 0.3138 - val_loss: 1.1677 - val_accuracy: 0.3490 - 83s/epoch - 108ms/step\n",
      "Epoch 18/30\n",
      "768/768 - 84s - loss: 1.1683 - accuracy: 0.3047 - val_loss: 1.1372 - val_accuracy: 0.3229 - 84s/epoch - 109ms/step\n",
      "Epoch 19/30\n",
      "768/768 - 84s - loss: 1.1600 - accuracy: 0.3151 - val_loss: 1.1524 - val_accuracy: 0.3698 - 84s/epoch - 109ms/step\n",
      "Epoch 20/30\n",
      "768/768 - 83s - loss: 1.1532 - accuracy: 0.3216 - val_loss: 1.7726 - val_accuracy: 0.3333 - 83s/epoch - 109ms/step\n",
      "Epoch 21/30\n",
      "768/768 - 83s - loss: 1.1532 - accuracy: 0.3268 - val_loss: 1.6306 - val_accuracy: 0.3229 - 83s/epoch - 109ms/step\n",
      "Epoch 22/30\n",
      "768/768 - 84s - loss: 1.1575 - accuracy: 0.3477 - val_loss: 2.7493 - val_accuracy: 0.3021 - 84s/epoch - 109ms/step\n",
      "Epoch 23/30\n",
      "768/768 - 84s - loss: 1.1484 - accuracy: 0.3346 - val_loss: 4.3942 - val_accuracy: 0.2917 - 84s/epoch - 109ms/step\n",
      "Epoch 24/30\n",
      "768/768 - 84s - loss: 1.1551 - accuracy: 0.3242 - val_loss: 1.0985 - val_accuracy: 0.3646 - 84s/epoch - 110ms/step\n",
      "Epoch 25/30\n",
      "768/768 - 84s - loss: 1.1417 - accuracy: 0.3268 - val_loss: 1.4113 - val_accuracy: 0.3594 - 84s/epoch - 109ms/step\n",
      "Epoch 26/30\n",
      "768/768 - 83s - loss: 1.1292 - accuracy: 0.3229 - val_loss: 1.2492 - val_accuracy: 0.4010 - 83s/epoch - 108ms/step\n",
      "Epoch 27/30\n",
      "768/768 - 84s - loss: 1.1442 - accuracy: 0.3490 - val_loss: 1.1421 - val_accuracy: 0.3698 - 84s/epoch - 110ms/step\n",
      "Epoch 28/30\n",
      "768/768 - 84s - loss: 1.1399 - accuracy: 0.3333 - val_loss: 1.2276 - val_accuracy: 0.3073 - 84s/epoch - 110ms/step\n",
      "Epoch 29/30\n",
      "768/768 - 84s - loss: 1.1374 - accuracy: 0.3164 - val_loss: 1.2969 - val_accuracy: 0.2969 - 84s/epoch - 110ms/step\n",
      "Epoch 30/30\n",
      "768/768 - 83s - loss: 1.1264 - accuracy: 0.3750 - val_loss: 1.1028 - val_accuracy: 0.3646 - 83s/epoch - 108ms/step\n"
     ]
    }
   ],
   "source": [
    "model = keras.Model(inputs, outputs)\n",
    "\n",
    "model.compile(optimizer=\"adam\", loss=\"categorical_crossentropy\", metrics=[\"accuracy\"] )\n",
    "\n",
    "model.summary()\n",
    "\n",
    "\n",
    "with tf.device('/GPU:0'):\n",
    "    hist = model.fit(X_train, \n",
    "                     y_train, \n",
    "                     batch_size=1,\n",
    "                     validation_split=0.2,\n",
    "                     epochs=30, \n",
    "                     verbose=2)"
   ]
  },
  {
   "cell_type": "code",
   "execution_count": 9,
   "metadata": {},
   "outputs": [
    {
     "data": {
      "image/png": "[encoded data removed]",
      "text/plain": [
       "<Figure size 432x288 with 1 Axes>"
      ]
     },
     "metadata": {
      "needs_background": "light"
     },
     "output_type": "display_data"
    },
    {
     "name": "stdout",
     "output_type": "stream",
     "text": [
      "8/8 [==============================] - 7s 436ms/step - loss: 1.1035 - accuracy: 0.3583\n",
      "test acc 0.3583333194255829\n"
     ]
    }
   ],
   "source": [
    "show_loss(hist)"
   ]
  },
  {
   "cell_type": "code",
   "execution_count": 10,
   "metadata": {},
   "outputs": [
    {
     "name": "stdout",
     "output_type": "stream",
     "text": [
      "INFO:tensorflow:Assets written to: model/ef_20211116.md\\assets\n"
     ]
    },
    {
     "name": "stderr",
     "output_type": "stream",
     "text": [
      "C:\\ProgramData\\Anaconda3\\lib\\site-packages\\keras\\engine\\functional.py:1410: CustomMaskWarning: Custom mask layers require a config and must override get_config. When loading, the custom mask layer must be passed to the custom_objects argument.\n",
      "  layer_config = serialize_layer_fn(layer)\n",
      "C:\\ProgramData\\Anaconda3\\lib\\site-packages\\keras\\saving\\saved_model\\layer_serialization.py:112: CustomMaskWarning: Custom mask layers require a config and must override get_config. When loading, the custom mask layer must be passed to the custom_objects argument.\n",
      "  return generic_utils.serialize_keras_object(obj)\n"
     ]
    }
   ],
   "source": [
    "model.save(\"model/ef_20211116.md\")"
   ]
  },
  {
   "cell_type": "code",
   "execution_count": null,
   "metadata": {},
   "outputs": [],
   "source": []
  },
  {
   "cell_type": "markdown",
   "metadata": {},
   "source": [
    "# 嘗試遷移學習"
   ]
  },
  {
   "cell_type": "code",
   "execution_count": null,
   "metadata": {},
   "outputs": [],
   "source": [
    "import cv2\n",
    "import numpy as np\n",
    "from matplotlib.pyplot import imread\n",
    "from matplotlib.pyplot import imshow\n",
    "from tensorflow.keras.preprocessing import image\n",
    "from tensorflow.keras.applications.imagenet_utils import decode_predictions\n",
    "from tensorflow.keras.applications.imagenet_utils import preprocess_input\n",
    "from tensorflow.keras import layers\n",
    "from tensorflow.keras.applications import EfficientNetB0\n",
    "import numpy as np\n",
    "import tensorflow as tf\n",
    "\n",
    "import numpy as np \n",
    "import pandas as pd \n",
    "import matplotlib.pyplot as plt\n",
    "import os\n",
    "\n",
    "\n",
    "NUM_CLASSES = 3\n",
    "IMG_SIZE = 224"
   ]
  }
 ],
 "metadata": {
  "kernelspec": {
   "display_name": "Python 3",
   "language": "python",
   "name": "python3"
  },
  "language_info": {
   "codemirror_mode": {
    "name": "ipython",
    "version": 3
   },
   "file_extension": ".py",
   "mimetype": "text/x-python",
   "name": "python",
   "nbconvert_exporter": "python",
   "pygments_lexer": "ipython3",
   "version": "3.8.5"
  }
 },
 "nbformat": 4,
 "nbformat_minor": 5
}
