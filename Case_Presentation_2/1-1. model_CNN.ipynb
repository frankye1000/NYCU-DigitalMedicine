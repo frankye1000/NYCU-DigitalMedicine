{
 "cells": [
  {
   "cell_type": "code",
   "execution_count": 1,
   "metadata": {},
   "outputs": [],
   "source": [
    "import os\n",
    "import cv2\n",
    "import numpy as np\n",
    "import pandas as pd\n",
    "import matplotlib.pyplot as plt\n",
    "\n",
    "import keras\n",
    "from keras.models import Sequential\n",
    "from keras.layers import Conv2D, MaxPooling2D, Dropout, Dense, Flatten, BatchNormalization\n",
    "\n",
    "from sklearn.model_selection import train_test_split"
   ]
  },
  {
   "cell_type": "code",
   "execution_count": 2,
   "metadata": {},
   "outputs": [
    {
     "data": {
      "text/html": [
       "<div>\n",
       "<style scoped>\n",
       "    .dataframe tbody tr th:only-of-type {\n",
       "        vertical-align: middle;\n",
       "    }\n",
       "\n",
       "    .dataframe tbody tr th {\n",
       "        vertical-align: top;\n",
       "    }\n",
       "\n",
       "    .dataframe thead th {\n",
       "        text-align: right;\n",
       "    }\n",
       "</style>\n",
       "<table border=\"1\" class=\"dataframe\">\n",
       "  <thead>\n",
       "    <tr style=\"text-align: right;\">\n",
       "      <th></th>\n",
       "      <th>FileID</th>\n",
       "      <th>Negative</th>\n",
       "      <th>Typical</th>\n",
       "      <th>Atypical</th>\n",
       "    </tr>\n",
       "  </thead>\n",
       "  <tbody>\n",
       "    <tr>\n",
       "      <th>0</th>\n",
       "      <td>0003b2210c64</td>\n",
       "      <td>0</td>\n",
       "      <td>1</td>\n",
       "      <td>0</td>\n",
       "    </tr>\n",
       "    <tr>\n",
       "      <th>1</th>\n",
       "      <td>00af6f8c2a3d</td>\n",
       "      <td>1</td>\n",
       "      <td>0</td>\n",
       "      <td>0</td>\n",
       "    </tr>\n",
       "    <tr>\n",
       "      <th>2</th>\n",
       "      <td>00c9033fbc2e</td>\n",
       "      <td>0</td>\n",
       "      <td>0</td>\n",
       "      <td>1</td>\n",
       "    </tr>\n",
       "    <tr>\n",
       "      <th>3</th>\n",
       "      <td>00e0ce73dac8</td>\n",
       "      <td>0</td>\n",
       "      <td>0</td>\n",
       "      <td>1</td>\n",
       "    </tr>\n",
       "    <tr>\n",
       "      <th>4</th>\n",
       "      <td>00f0a591f18a</td>\n",
       "      <td>0</td>\n",
       "      <td>1</td>\n",
       "      <td>0</td>\n",
       "    </tr>\n",
       "    <tr>\n",
       "      <th>...</th>\n",
       "      <td>...</td>\n",
       "      <td>...</td>\n",
       "      <td>...</td>\n",
       "      <td>...</td>\n",
       "    </tr>\n",
       "    <tr>\n",
       "      <th>1195</th>\n",
       "      <td>ff60a32aa049</td>\n",
       "      <td>0</td>\n",
       "      <td>0</td>\n",
       "      <td>1</td>\n",
       "    </tr>\n",
       "    <tr>\n",
       "      <th>1196</th>\n",
       "      <td>ff9666e69d19</td>\n",
       "      <td>0</td>\n",
       "      <td>1</td>\n",
       "      <td>0</td>\n",
       "    </tr>\n",
       "    <tr>\n",
       "      <th>1197</th>\n",
       "      <td>ff971972490d</td>\n",
       "      <td>1</td>\n",
       "      <td>0</td>\n",
       "      <td>0</td>\n",
       "    </tr>\n",
       "    <tr>\n",
       "      <th>1198</th>\n",
       "      <td>ffb804652089</td>\n",
       "      <td>1</td>\n",
       "      <td>0</td>\n",
       "      <td>0</td>\n",
       "    </tr>\n",
       "    <tr>\n",
       "      <th>1199</th>\n",
       "      <td>ffccc731298b</td>\n",
       "      <td>0</td>\n",
       "      <td>0</td>\n",
       "      <td>1</td>\n",
       "    </tr>\n",
       "  </tbody>\n",
       "</table>\n",
       "<p>1200 rows × 4 columns</p>\n",
       "</div>"
      ],
      "text/plain": [
       "            FileID  Negative  Typical  Atypical\n",
       "0     0003b2210c64         0        1         0\n",
       "1     00af6f8c2a3d         1        0         0\n",
       "2     00c9033fbc2e         0        0         1\n",
       "3     00e0ce73dac8         0        0         1\n",
       "4     00f0a591f18a         0        1         0\n",
       "...            ...       ...      ...       ...\n",
       "1195  ff60a32aa049         0        0         1\n",
       "1196  ff9666e69d19         0        1         0\n",
       "1197  ff971972490d         1        0         0\n",
       "1198  ffb804652089         1        0         0\n",
       "1199  ffccc731298b         0        0         1\n",
       "\n",
       "[1200 rows x 4 columns]"
      ]
     },
     "execution_count": 2,
     "metadata": {},
     "output_type": "execute_result"
    }
   ],
   "source": [
    "info = pd.read_csv(\"_info.csv\")\n",
    "info"
   ]
  },
  {
   "cell_type": "code",
   "execution_count": 3,
   "metadata": {},
   "outputs": [
    {
     "data": {
      "text/plain": [
       "array([[0, 1, 0],\n",
       "       [1, 0, 0],\n",
       "       [0, 0, 1],\n",
       "       ...,\n",
       "       [1, 0, 0],\n",
       "       [1, 0, 0],\n",
       "       [0, 0, 1]], dtype=int64)"
      ]
     },
     "execution_count": 3,
     "metadata": {},
     "output_type": "execute_result"
    }
   ],
   "source": [
    "y_OneHot = np.array(info[['Negative','Typical','Atypical']])\n",
    "y_OneHot"
   ]
  },
  {
   "cell_type": "code",
   "execution_count": 5,
   "metadata": {
    "scrolled": true
   },
   "outputs": [
    {
     "name": "stdout",
     "output_type": "stream",
     "text": [
      "(1200, 1, 256, 256)\n"
     ]
    }
   ],
   "source": [
    "fileids = info['FileID'].tolist()\n",
    "X = []\n",
    "for fileid in fileids:\n",
    "    pixel_array = plt.imread(\"img/train_cut/{}.jpg\".format(fileid))\n",
    "#     pixel_array = cv2.resize(pixel_array, (32,32))   # some size\n",
    "    X.append([pixel_array])\n",
    "    \n",
    "X = np.array(X)\n",
    "X = X.astype(\"float16\")\n",
    "# 檢查\n",
    "print(X.shape)"
   ]
  },
  {
   "cell_type": "markdown",
   "metadata": {},
   "source": [
    "# 訓練集 測試集"
   ]
  },
  {
   "cell_type": "code",
   "execution_count": 6,
   "metadata": {},
   "outputs": [],
   "source": [
    "X_train, X_test, y_train, y_test = train_test_split(X, y_OneHot, test_size=0.2, random_state=42)"
   ]
  },
  {
   "cell_type": "code",
   "execution_count": 7,
   "metadata": {},
   "outputs": [],
   "source": [
    "def show_loss(_history):\n",
    "    loss = _history.history['loss']\n",
    "    val_loss = _history.history['val_loss']\n",
    "    plt.plot(loss)\n",
    "    plt.plot(val_loss)\n",
    "    plt.xlabel('epoch')\n",
    "    plt.legend(['train', 'validation'], loc=\"upper right\")\n",
    "    plt.show()\n",
    "    \n",
    "    # accuracy\n",
    "    score = model.evaluate(X_test, y_test)\n",
    "    print(\"test acc\", score[1])\n",
    "    "
   ]
  },
  {
   "cell_type": "markdown",
   "metadata": {},
   "source": [
    "# CNN model"
   ]
  },
  {
   "cell_type": "code",
   "execution_count": 12,
   "metadata": {},
   "outputs": [],
   "source": [
    "model = Sequential()\n",
    "\n",
    "model.add(Conv2D(filters=256, kernel_size=(16,16), activation='relu', padding='same'))\n",
    "model.add(MaxPooling2D(pool_size=(8,8), padding=\"same\"))\n",
    "model.add(BatchNormalization())\n",
    "model.add(Dropout(0.2))\n",
    "\n",
    "model.add(Conv2D(filters=128, kernel_size=(8,8), activation='relu', padding='same'))\n",
    "model.add(MaxPooling2D(pool_size=(8,8), padding=\"same\"))\n",
    "model.add(BatchNormalization())\n",
    "model.add(Dropout(0.2))\n",
    "\n",
    "# 平坦層\n",
    "model.add(Flatten())\n",
    "# 隱藏層\n",
    "model.add(Dense(256, activation=\"relu\"))\n",
    "model.add(Dropout(0.2))\n",
    "model.add(Dense(128, activation=\"relu\"))\n",
    "model.add(Dropout(0.2))\n",
    "# 輸出層\n",
    "model.add(Dense(3, activation=\"softmax\"))"
   ]
  },
  {
   "cell_type": "code",
   "execution_count": 16,
   "metadata": {
    "scrolled": true
   },
   "outputs": [
    {
     "name": "stdout",
     "output_type": "stream",
     "text": [
      "Epoch 1/20\n",
      "77/77 - 15s - loss: 0.5641 - accuracy: 0.7682 - val_loss: 4.0904 - val_accuracy: 0.4271 - 15s/epoch - 197ms/step\n",
      "Epoch 2/20\n",
      "77/77 - 15s - loss: 0.4523 - accuracy: 0.8255 - val_loss: 4.5483 - val_accuracy: 0.4531 - 15s/epoch - 191ms/step\n",
      "Epoch 3/20\n",
      "77/77 - 15s - loss: 0.4657 - accuracy: 0.8073 - val_loss: 5.0384 - val_accuracy: 0.4479 - 15s/epoch - 192ms/step\n",
      "Epoch 4/20\n",
      "77/77 - 15s - loss: 0.4834 - accuracy: 0.8073 - val_loss: 4.7280 - val_accuracy: 0.4375 - 15s/epoch - 192ms/step\n",
      "Epoch 5/20\n",
      "77/77 - 15s - loss: 0.4676 - accuracy: 0.8112 - val_loss: 4.9813 - val_accuracy: 0.4271 - 15s/epoch - 192ms/step\n",
      "Epoch 6/20\n",
      "77/77 - 15s - loss: 0.4427 - accuracy: 0.8216 - val_loss: 4.9798 - val_accuracy: 0.3906 - 15s/epoch - 193ms/step\n",
      "Epoch 7/20\n",
      "77/77 - 15s - loss: 0.4636 - accuracy: 0.8151 - val_loss: 4.5058 - val_accuracy: 0.4167 - 15s/epoch - 193ms/step\n",
      "Epoch 8/20\n",
      "77/77 - 15s - loss: 0.4833 - accuracy: 0.8073 - val_loss: 4.5234 - val_accuracy: 0.4115 - 15s/epoch - 194ms/step\n",
      "Epoch 9/20\n",
      "77/77 - 20s - loss: 0.4425 - accuracy: 0.8255 - val_loss: 3.8634 - val_accuracy: 0.4375 - 20s/epoch - 262ms/step\n",
      "Epoch 10/20\n",
      "77/77 - 15s - loss: 0.3925 - accuracy: 0.8307 - val_loss: 4.3773 - val_accuracy: 0.4323 - 15s/epoch - 193ms/step\n",
      "Epoch 11/20\n",
      "77/77 - 15s - loss: 0.4013 - accuracy: 0.8438 - val_loss: 5.9865 - val_accuracy: 0.4271 - 15s/epoch - 193ms/step\n",
      "Epoch 12/20\n",
      "77/77 - 15s - loss: 0.4142 - accuracy: 0.8359 - val_loss: 5.6899 - val_accuracy: 0.3854 - 15s/epoch - 194ms/step\n",
      "Epoch 13/20\n",
      "77/77 - 15s - loss: 0.4480 - accuracy: 0.8255 - val_loss: 4.5710 - val_accuracy: 0.4115 - 15s/epoch - 193ms/step\n",
      "Epoch 14/20\n",
      "77/77 - 15s - loss: 0.3616 - accuracy: 0.8503 - val_loss: 4.9903 - val_accuracy: 0.4115 - 15s/epoch - 194ms/step\n",
      "Epoch 15/20\n",
      "77/77 - 15s - loss: 0.3786 - accuracy: 0.8451 - val_loss: 5.6545 - val_accuracy: 0.4167 - 15s/epoch - 194ms/step\n",
      "Epoch 16/20\n",
      "77/77 - 15s - loss: 0.4069 - accuracy: 0.8464 - val_loss: 5.7418 - val_accuracy: 0.4219 - 15s/epoch - 194ms/step\n",
      "Epoch 17/20\n",
      "77/77 - 15s - loss: 0.3946 - accuracy: 0.8464 - val_loss: 6.1727 - val_accuracy: 0.3958 - 15s/epoch - 194ms/step\n",
      "Epoch 18/20\n",
      "77/77 - 15s - loss: 0.3604 - accuracy: 0.8594 - val_loss: 5.4056 - val_accuracy: 0.4010 - 15s/epoch - 193ms/step\n",
      "Epoch 19/20\n",
      "77/77 - 21s - loss: 0.3185 - accuracy: 0.8854 - val_loss: 5.5424 - val_accuracy: 0.4062 - 21s/epoch - 273ms/step\n",
      "Epoch 20/20\n",
      "77/77 - 15s - loss: 0.3679 - accuracy: 0.8451 - val_loss: 5.7267 - val_accuracy: 0.4010 - 15s/epoch - 193ms/step\n"
     ]
    }
   ],
   "source": [
    "model.compile(loss=\"categorical_crossentropy\", optimizer=\"Adam\", metrics=[\"accuracy\"])\n",
    "_history = model.fit(x=X_train,\n",
    "                    y=y_train,\n",
    "                    batch_size=10,\n",
    "                    validation_split=0.2,\n",
    "                    epochs=20,\n",
    "                    verbose=2)"
   ]
  },
  {
   "cell_type": "code",
   "execution_count": 17,
   "metadata": {},
   "outputs": [
    {
     "data": {
      "image/png": "[encoded data removed]",
      "text/plain": [
       "<Figure size 432x288 with 1 Axes>"
      ]
     },
     "metadata": {
      "needs_background": "light"
     },
     "output_type": "display_data"
    },
    {
     "name": "stdout",
     "output_type": "stream",
     "text": [
      "8/8 [==============================] - 1s 132ms/step - loss: 23.3962 - accuracy: 0.4083\n",
      "test acc 0.40833333134651184\n"
     ]
    }
   ],
   "source": [
    "show_loss(_history)"
   ]
  },
  {
   "cell_type": "code",
   "execution_count": 18,
   "metadata": {},
   "outputs": [
    {
     "name": "stdout",
     "output_type": "stream",
     "text": [
      "INFO:tensorflow:Assets written to: model/cnn_20211116.md\\assets\n"
     ]
    }
   ],
   "source": [
    "model.save(\"model/cnn_20211116.md\")"
   ]
  },
  {
   "cell_type": "code",
   "execution_count": null,
   "metadata": {},
   "outputs": [],
   "source": []
  }
 ],
 "metadata": {
  "kernelspec": {
   "display_name": "Python 3",
   "language": "python",
   "name": "python3"
  },
  "language_info": {
   "codemirror_mode": {
    "name": "ipython",
    "version": 3
   },
   "file_extension": ".py",
   "mimetype": "text/x-python",
   "name": "python",
   "nbconvert_exporter": "python",
   "pygments_lexer": "ipython3",
   "version": "3.8.5"
  }
 },
 "nbformat": 4,
 "nbformat_minor": 5
}
