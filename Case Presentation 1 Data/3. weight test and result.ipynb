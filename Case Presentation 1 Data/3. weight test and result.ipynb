{
 "cells": [
  {
   "cell_type": "code",
   "execution_count": 26,
   "id": "ccd215c8",
   "metadata": {},
   "outputs": [],
   "source": [
    "import pandas as pd\n",
    "from sklearn.metrics import confusion_matrix\n",
    "from sklearn.metrics import accuracy_score\n",
    "from sklearn.metrics import precision_score\n",
    "from sklearn.metrics import recall_score\n",
    "from sklearn.metrics import f1_score"
   ]
  },
  {
   "cell_type": "code",
   "execution_count": 27,
   "id": "ecd4f080",
   "metadata": {
    "scrolled": true
   },
   "outputs": [
    {
     "data": {
      "text/html": [
       "<div>\n",
       "<style scoped>\n",
       "    .dataframe tbody tr th:only-of-type {\n",
       "        vertical-align: middle;\n",
       "    }\n",
       "\n",
       "    .dataframe tbody tr th {\n",
       "        vertical-align: top;\n",
       "    }\n",
       "\n",
       "    .dataframe thead th {\n",
       "        text-align: right;\n",
       "    }\n",
       "</style>\n",
       "<table border=\"1\" class=\"dataframe\">\n",
       "  <thead>\n",
       "    <tr style=\"text-align: right;\">\n",
       "      <th></th>\n",
       "      <th>y</th>\n",
       "      <th>clean_words</th>\n",
       "    </tr>\n",
       "  </thead>\n",
       "  <tbody>\n",
       "    <tr>\n",
       "      <th>0</th>\n",
       "      <td>0</td>\n",
       "      <td>[balloon, without, neurological, history, enda...</td>\n",
       "    </tr>\n",
       "    <tr>\n",
       "      <th>1</th>\n",
       "      <td>0</td>\n",
       "      <td>[suggest, tolerate, pth, patient, rhcath, nidd...</td>\n",
       "    </tr>\n",
       "    <tr>\n",
       "      <th>2</th>\n",
       "      <td>0</td>\n",
       "      <td>[capacity, scale, rule, weakness, baseline, le...</td>\n",
       "    </tr>\n",
       "    <tr>\n",
       "      <th>3</th>\n",
       "      <td>0</td>\n",
       "      <td>[scale, elevation, mccutcheon, long, baseline,...</td>\n",
       "    </tr>\n",
       "    <tr>\n",
       "      <th>4</th>\n",
       "      <td>0</td>\n",
       "      <td>[bradycardia, pupil, radiate, paste, rule, dou...</td>\n",
       "    </tr>\n",
       "  </tbody>\n",
       "</table>\n",
       "</div>"
      ],
      "text/plain": [
       "   y                                        clean_words\n",
       "0  0  [balloon, without, neurological, history, enda...\n",
       "1  0  [suggest, tolerate, pth, patient, rhcath, nidd...\n",
       "2  0  [capacity, scale, rule, weakness, baseline, le...\n",
       "3  0  [scale, elevation, mccutcheon, long, baseline,...\n",
       "4  0  [bradycardia, pupil, radiate, paste, rule, dou..."
      ]
     },
     "execution_count": 27,
     "metadata": {},
     "output_type": "execute_result"
    }
   ],
   "source": [
    "train_df = pd.read_pickle(\"clean_Train_Textual_VAL.pk\")  # 要讀取 *_VAL，字詞不重複\n",
    "test_df = pd.read_pickle(\"clean_Test_Intuitive_VAL.pk\")\n",
    "test_df.head()"
   ]
  },
  {
   "cell_type": "code",
   "execution_count": null,
   "id": "de5fc835",
   "metadata": {},
   "outputs": [],
   "source": []
  },
  {
   "cell_type": "markdown",
   "id": "16d820ac",
   "metadata": {},
   "source": [
    "# 建立權重列表想法:\n",
    "## 1. obesity、obese為肥胖重點單字，所以給予50分評價，如果這篇文章有出現一個肥胖字(總分>50)就是肥胖\n",
    "\n",
    "## 2. morbidly、morbid、hyperlipidemia和肥胖相關字最相近，所以給予28分權重，只有出現兩個相近字(>50)就是肥胖\n",
    "\n",
    "## 3. asthma、htn不這麼接近，所以給予20分權重，要出現3次(>50分)才會是肥胖"
   ]
  },
  {
   "cell_type": "code",
   "execution_count": 28,
   "id": "726a385c",
   "metadata": {},
   "outputs": [],
   "source": [
    "keyWords={\"obesity\":50,\n",
    "        \"obese\":50,\n",
    "        \"morbidly\":28,\n",
    "        \"morbid\":28,\n",
    "        \"hyperlipidemia\":28,\n",
    "        \"asthma\":20,\n",
    "        \"htn\":20,\n",
    "#         \"elderly\":20,\n",
    "}"
   ]
  },
  {
   "cell_type": "code",
   "execution_count": null,
   "id": "c9dfd48b",
   "metadata": {},
   "outputs": [],
   "source": []
  },
  {
   "cell_type": "markdown",
   "id": "c7786e9d",
   "metadata": {},
   "source": [
    "# 測試集資料結果"
   ]
  },
  {
   "cell_type": "code",
   "execution_count": 33,
   "id": "6653ff6b",
   "metadata": {},
   "outputs": [
    {
     "name": "stdout",
     "output_type": "stream",
     "text": [
      "confusion_matrix: \n",
      " [[198   2]\n",
      " [  8 192]]\n",
      "precison: 0.9896907216494846\n",
      "recall: 0.96\n",
      "accuracy: 0.975\n",
      "f1: 0.9746192893401014\n"
     ]
    }
   ],
   "source": [
    "# test_data_val\n",
    "points = []\n",
    "preds = []\n",
    "for clean_words in test_df.clean_words:   \n",
    "    point = 0\n",
    "    for word in clean_words:\n",
    "        if word in keyWords:              ## <<== 算分數\n",
    "            point+=keyWords[word]\n",
    "    \n",
    "    pred = 0\n",
    "    if point >= 50:                       ## <<== 總分大於50就是肥胖\n",
    "        pred = 1\n",
    "    \n",
    "    points.append(point)\n",
    "    preds.append(pred)\n",
    "    \n",
    "test_df[\"points\"] = points\n",
    "test_df[\"preds\"] = preds\n",
    "test_df.to_csv(\"point_test.csv\")          ##<<== 儲存預測結果 \n",
    "\n",
    "\n",
    "pred = preds\n",
    "true = list(test_df.y)\n",
    "\n",
    "## 計算confusion_matrix和相關驗證數值\n",
    "c = confusion_matrix(true, pred)\n",
    "print(\"confusion_matrix: \\n\", c)\n",
    "accuracy = accuracy_score(true, pred)\n",
    "precision = precision_score(true, pred)\n",
    "recall = recall_score(true, pred)\n",
    "f1 = f1_score(true, pred)\n",
    "print(\"precison:\", precision)\n",
    "print(\"recall:\", recall)\n",
    "print(\"accuracy:\", accuracy)\n",
    "print(\"f1:\", f1)"
   ]
  },
  {
   "cell_type": "markdown",
   "id": "f7a6f92a",
   "metadata": {},
   "source": [
    "# 訓練集驗證結果"
   ]
  },
  {
   "cell_type": "code",
   "execution_count": 34,
   "id": "6f61f436",
   "metadata": {},
   "outputs": [
    {
     "name": "stdout",
     "output_type": "stream",
     "text": [
      "confusion_matrix: \n",
      " [[183  17]\n",
      " [ 57 143]]\n",
      "precison: 0.89375\n",
      "recall: 0.715\n",
      "accuracy: 0.815\n",
      "f1: 0.7944444444444444\n"
     ]
    }
   ],
   "source": [
    "# test_data_val\n",
    "points = []\n",
    "preds = []\n",
    "for clean_words in train_df.clean_words:   \n",
    "    point = 0\n",
    "    for word in clean_words:\n",
    "        if word in keyWords:              ## <<== 算分數\n",
    "            point+=keyWords[word]\n",
    "    \n",
    "    pred = 0\n",
    "    if point >= 50:                       ## <<== 總分大於50就是肥胖\n",
    "        pred = 1\n",
    "    \n",
    "    points.append(point)\n",
    "    preds.append(pred)\n",
    "    \n",
    "train_df[\"points\"] = points\n",
    "train_df[\"preds\"] = preds\n",
    "train_df.to_csv(\"point_train.csv\")          ##<<== 儲存預測結果 \n",
    "\n",
    "\n",
    "pred = preds\n",
    "true = list(train_df.y)\n",
    "\n",
    "## 計算confusion_matrix和相關驗證數值\n",
    "c = confusion_matrix(true, pred)\n",
    "print(\"confusion_matrix: \\n\", c)\n",
    "accuracy = accuracy_score(true, pred)\n",
    "precision = precision_score(true, pred)\n",
    "recall = recall_score(true, pred)\n",
    "f1 = f1_score(true, pred)\n",
    "print(\"precison:\", precision)\n",
    "print(\"recall:\", recall)\n",
    "print(\"accuracy:\", accuracy)\n",
    "print(\"f1:\", f1)"
   ]
  },
  {
   "cell_type": "code",
   "execution_count": null,
   "id": "22d6423a",
   "metadata": {},
   "outputs": [],
   "source": []
  },
  {
   "cell_type": "code",
   "execution_count": null,
   "id": "c42475fa",
   "metadata": {},
   "outputs": [],
   "source": []
  }
 ],
 "metadata": {
  "kernelspec": {
   "display_name": "Python 3",
   "language": "python",
   "name": "python3"
  },
  "language_info": {
   "codemirror_mode": {
    "name": "ipython",
    "version": 3
   },
   "file_extension": ".py",
   "mimetype": "text/x-python",
   "name": "python",
   "nbconvert_exporter": "python",
   "pygments_lexer": "ipython3",
   "version": "3.8.8"
  }
 },
 "nbformat": 4,
 "nbformat_minor": 5
}
