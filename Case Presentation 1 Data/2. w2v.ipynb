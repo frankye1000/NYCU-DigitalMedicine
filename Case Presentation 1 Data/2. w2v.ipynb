{
 "cells": [
  {
   "cell_type": "code",
   "execution_count": 2,
   "id": "40a9b12c",
   "metadata": {},
   "outputs": [],
   "source": [
    "import pandas as pd\n",
    "from gensim.models.word2vec import Word2Vec"
   ]
  },
  {
   "cell_type": "code",
   "execution_count": 10,
   "id": "e8eda74f",
   "metadata": {},
   "outputs": [
    {
     "data": {
      "text/html": [
       "<div>\n",
       "<style scoped>\n",
       "    .dataframe tbody tr th:only-of-type {\n",
       "        vertical-align: middle;\n",
       "    }\n",
       "\n",
       "    .dataframe tbody tr th {\n",
       "        vertical-align: top;\n",
       "    }\n",
       "\n",
       "    .dataframe thead th {\n",
       "        text-align: right;\n",
       "    }\n",
       "</style>\n",
       "<table border=\"1\" class=\"dataframe\">\n",
       "  <thead>\n",
       "    <tr style=\"text-align: right;\">\n",
       "      <th></th>\n",
       "      <th>y</th>\n",
       "      <th>clean_words</th>\n",
       "    </tr>\n",
       "  </thead>\n",
       "  <tbody>\n",
       "    <tr>\n",
       "      <th>0</th>\n",
       "      <td>0</td>\n",
       "      <td>[discharge, summary, unsigned, dis, admission,...</td>\n",
       "    </tr>\n",
       "    <tr>\n",
       "      <th>1</th>\n",
       "      <td>0</td>\n",
       "      <td>[gwh, cad, dis, admission, date, report, statu...</td>\n",
       "    </tr>\n",
       "    <tr>\n",
       "      <th>2</th>\n",
       "      <td>0</td>\n",
       "      <td>[mhamc, syncope, sign, dis, admission, date, r...</td>\n",
       "    </tr>\n",
       "    <tr>\n",
       "      <th>3</th>\n",
       "      <td>0</td>\n",
       "      <td>[aluh, ventricular, fibrillation, arrest, sign...</td>\n",
       "    </tr>\n",
       "    <tr>\n",
       "      <th>4</th>\n",
       "      <td>0</td>\n",
       "      <td>[acmh, unstable, angina, sign, dis, admission,...</td>\n",
       "    </tr>\n",
       "  </tbody>\n",
       "</table>\n",
       "</div>"
      ],
      "text/plain": [
       "   y                                        clean_words\n",
       "0  0  [discharge, summary, unsigned, dis, admission,...\n",
       "1  0  [gwh, cad, dis, admission, date, report, statu...\n",
       "2  0  [mhamc, syncope, sign, dis, admission, date, r...\n",
       "3  0  [aluh, ventricular, fibrillation, arrest, sign...\n",
       "4  0  [acmh, unstable, angina, sign, dis, admission,..."
      ]
     },
     "execution_count": 10,
     "metadata": {},
     "output_type": "execute_result"
    }
   ],
   "source": [
    "train_df = pd.read_pickle(\"clean_Train_Textual.pk\")\n",
    "test_df = pd.read_pickle(\"clean_Test_Intuitive.pk\")\n",
    "val_df = pd.read_pickle(\"clean_Validation.pk\")\n",
    "test_df.head()"
   ]
  },
  {
   "cell_type": "code",
   "execution_count": 13,
   "id": "26de7834",
   "metadata": {},
   "outputs": [],
   "source": [
    "# 串聯 train、test、validation 中的 clean_words，再作洗牌（避免 category 順序影響到結果）\n",
    "corpus = pd.concat([train_df.clean_words, test_df.clean_words, val_df.clean_words]).sample(frac=1).reset_index(drop=True)"
   ]
  },
  {
   "cell_type": "code",
   "execution_count": null,
   "id": "294d4ec7",
   "metadata": {},
   "outputs": [],
   "source": []
  },
  {
   "cell_type": "markdown",
   "id": "e317d306",
   "metadata": {},
   "source": [
    "# w2v"
   ]
  },
  {
   "cell_type": "code",
   "execution_count": 14,
   "id": "3ce5ddcb",
   "metadata": {},
   "outputs": [],
   "source": [
    "model = Word2Vec(corpus)"
   ]
  },
  {
   "cell_type": "code",
   "execution_count": 15,
   "id": "d44a1317",
   "metadata": {},
   "outputs": [],
   "source": [
    "# 目前這模型最棒\n",
    "model.save(\"word2vec_WordNumBig2.model\")"
   ]
  },
  {
   "cell_type": "code",
   "execution_count": null,
   "id": "c0aca443",
   "metadata": {},
   "outputs": [],
   "source": []
  },
  {
   "cell_type": "markdown",
   "id": "03632961",
   "metadata": {},
   "source": [
    "# 挑出>0.9的相近字，加入權重列表"
   ]
  },
  {
   "cell_type": "code",
   "execution_count": 16,
   "id": "58b09070",
   "metadata": {},
   "outputs": [
    {
     "data": {
      "text/plain": [
       "[('morbid', 0.9647314548492432),\n",
       " ('hyperlipidemia', 0.9158067107200623),\n",
       " ('arthritis', 0.9098497629165649),\n",
       " ('asthma', 0.9088093042373657),\n",
       " ('htn', 0.9068505167961121),\n",
       " ('niddm', 0.8954925537109375),\n",
       " ('osa', 0.8901448845863342),\n",
       " ('iddm', 0.8828846216201782),\n",
       " ('fibromyalgia', 0.8820827007293701),\n",
       " ('rheumatoid', 0.8799801468849182)]"
      ]
     },
     "execution_count": 16,
     "metadata": {},
     "output_type": "execute_result"
    }
   ],
   "source": [
    "model.wv.most_similar(\"obesity\")"
   ]
  },
  {
   "cell_type": "code",
   "execution_count": 17,
   "id": "0f319eff",
   "metadata": {},
   "outputs": [
    {
     "data": {
      "text/plain": [
       "[('cals', 0.9427347183227539),\n",
       " ('ada', 0.9390769004821777),\n",
       " ('lactose', 0.9257362484931946),\n",
       " ('salt', 0.9249107837677002),\n",
       " ('fdi', 0.9248932003974915),\n",
       " ('restrict', 0.9202039837837219),\n",
       " ('chol', 0.9153004884719849),\n",
       " ('puree', 0.9034404158592224),\n",
       " ('calorie', 0.8923205733299255),\n",
       " ('restriction', 0.8730531334877014)]"
      ]
     },
     "execution_count": 17,
     "metadata": {},
     "output_type": "execute_result"
    }
   ],
   "source": [
    "# 這不要!!!\n",
    "model.wv.most_similar(\"fat\")"
   ]
  },
  {
   "cell_type": "code",
   "execution_count": 18,
   "id": "9dd53bf7",
   "metadata": {
    "scrolled": true
   },
   "outputs": [
    {
     "data": {
      "text/plain": [
       "[('morbidly', 0.969022810459137),\n",
       " ('elderly', 0.8788843154907227),\n",
       " ('comfortably', 0.8693804144859314),\n",
       " ('nad', 0.8659411072731018),\n",
       " ('pleasant', 0.8633476495742798),\n",
       " ('american', 0.8558352589607239),\n",
       " ('black', 0.8521708250045776),\n",
       " ('apparent', 0.8513118624687195),\n",
       " ('resting', 0.8442603945732117),\n",
       " ('gen', 0.818048894405365)]"
      ]
     },
     "execution_count": 18,
     "metadata": {},
     "output_type": "execute_result"
    }
   ],
   "source": [
    "model.wv.most_similar(\"obese\")"
   ]
  },
  {
   "cell_type": "code",
   "execution_count": 19,
   "id": "b5d259a1",
   "metadata": {},
   "outputs": [
    {
     "data": {
      "text/plain": [
       "[('rheumatoid', 0.9576449394226074),\n",
       " ('fibromyalgia', 0.9399236440658569),\n",
       " ('osteoarthritis', 0.9333131313323975),\n",
       " ('hyperlipidemia', 0.9329443573951721),\n",
       " ('dyslipidemia', 0.9183264374732971),\n",
       " ('djd', 0.9118777513504028),\n",
       " ('obesity', 0.9098496437072754),\n",
       " ('hypoventilation', 0.9076671600341797),\n",
       " ('psh', 0.9033430814743042),\n",
       " ('pvd', 0.903080940246582)]"
      ]
     },
     "execution_count": 19,
     "metadata": {},
     "output_type": "execute_result"
    }
   ],
   "source": [
    "model.wv.most_similar(\"arthritis\")"
   ]
  },
  {
   "cell_type": "code",
   "execution_count": 20,
   "id": "f4422b11",
   "metadata": {},
   "outputs": [
    {
     "data": {
      "text/plain": [
       "[('copd', 0.9108418822288513),\n",
       " ('obesity', 0.9088094234466553),\n",
       " ('morbid', 0.9004641175270081),\n",
       " ('pmh', 0.8960044384002686),\n",
       " ('rheumatoid', 0.8875383138656616),\n",
       " ('htn', 0.8831225037574768),\n",
       " ('flare', 0.8802182674407959),\n",
       " ('arthritis', 0.8747811913490295),\n",
       " ('disorder', 0.8699325323104858),\n",
       " ('niddm', 0.8576815724372864)]"
      ]
     },
     "execution_count": 20,
     "metadata": {},
     "output_type": "execute_result"
    }
   ],
   "source": [
    "model.wv.most_similar(\"asthma\")"
   ]
  },
  {
   "cell_type": "code",
   "execution_count": 21,
   "id": "c8deb679",
   "metadata": {},
   "outputs": [
    {
     "data": {
      "text/plain": [
       "[('iddm', 0.948174238204956),\n",
       " ('dyslipidemia', 0.9478601813316345),\n",
       " ('hyperchol', 0.9464793801307678),\n",
       " ('niddm', 0.9420648217201233),\n",
       " ('arthritis', 0.9329444169998169),\n",
       " ('bph', 0.9317241907119751),\n",
       " ('fibromyalgia', 0.925021231174469),\n",
       " ('pvd', 0.9241685271263123),\n",
       " ('obesity', 0.915806770324707),\n",
       " ('rheumatoid', 0.9147759079933167)]"
      ]
     },
     "execution_count": 21,
     "metadata": {},
     "output_type": "execute_result"
    }
   ],
   "source": [
    "model.wv.most_similar(\"hyperlipidemia\")"
   ]
  },
  {
   "cell_type": "code",
   "execution_count": 22,
   "id": "94d67c0a",
   "metadata": {},
   "outputs": [
    {
     "data": {
      "text/plain": [
       "[('fibromyalgia', 0.9237592816352844),\n",
       " ('dyslipidemia', 0.9100934863090515),\n",
       " ('arthritis', 0.9076672196388245),\n",
       " ('cholelithiasis', 0.9028043746948242),\n",
       " ('osa', 0.8939671516418457),\n",
       " ('djd', 0.8901248574256897),\n",
       " ('gastritis', 0.8884028792381287),\n",
       " ('psh', 0.8853700757026672),\n",
       " ('gastroesophageal', 0.8852400779724121),\n",
       " ('nephrotic', 0.8848813772201538)]"
      ]
     },
     "execution_count": 22,
     "metadata": {},
     "output_type": "execute_result"
    }
   ],
   "source": [
    "model.wv.most_similar(\"hypoventilation\")"
   ]
  },
  {
   "cell_type": "code",
   "execution_count": null,
   "id": "7a79725b",
   "metadata": {},
   "outputs": [],
   "source": []
  }
 ],
 "metadata": {
  "kernelspec": {
   "display_name": "Python 3",
   "language": "python",
   "name": "python3"
  },
  "language_info": {
   "codemirror_mode": {
    "name": "ipython",
    "version": 3
   },
   "file_extension": ".py",
   "mimetype": "text/x-python",
   "name": "python",
   "nbconvert_exporter": "python",
   "pygments_lexer": "ipython3",
   "version": "3.8.8"
  }
 },
 "nbformat": 4,
 "nbformat_minor": 5
}
