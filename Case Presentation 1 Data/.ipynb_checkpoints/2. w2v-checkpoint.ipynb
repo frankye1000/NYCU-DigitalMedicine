{
 "cells": [
  {
   "cell_type": "code",
   "execution_count": 2,
   "id": "40a9b12c",
   "metadata": {},
   "outputs": [],
   "source": [
    "import pandas as pd\n",
    "from gensim.models.word2vec import Word2Vec"
   ]
  },
  {
   "cell_type": "code",
   "execution_count": 10,
   "id": "e8eda74f",
   "metadata": {},
   "outputs": [
    {
     "data": {
      "text/html": [
       "<div>\n",
       "<style scoped>\n",
       "    .dataframe tbody tr th:only-of-type {\n",
       "        vertical-align: middle;\n",
       "    }\n",
       "\n",
       "    .dataframe tbody tr th {\n",
       "        vertical-align: top;\n",
       "    }\n",
       "\n",
       "    .dataframe thead th {\n",
       "        text-align: right;\n",
       "    }\n",
       "</style>\n",
       "<table border=\"1\" class=\"dataframe\">\n",
       "  <thead>\n",
       "    <tr style=\"text-align: right;\">\n",
       "      <th></th>\n",
       "      <th>y</th>\n",
       "      <th>clean_words</th>\n",
       "    </tr>\n",
       "  </thead>\n",
       "  <tbody>\n",
       "    <tr>\n",
       "      <th>0</th>\n",
       "      <td>0</td>\n",
       "      <td>[discharge, summary, unsigned, dis, admission,...</td>\n",
       "    </tr>\n",
       "    <tr>\n",
       "      <th>1</th>\n",
       "      <td>0</td>\n",
       "      <td>[gwh, cad, dis, admission, date, report, statu...</td>\n",
       "    </tr>\n",
       "    <tr>\n",
       "      <th>2</th>\n",
       "      <td>0</td>\n",
       "      <td>[mhamc, syncope, sign, dis, admission, date, r...</td>\n",
       "    </tr>\n",
       "    <tr>\n",
       "      <th>3</th>\n",
       "      <td>0</td>\n",
       "      <td>[aluh, ventricular, fibrillation, arrest, sign...</td>\n",
       "    </tr>\n",
       "    <tr>\n",
       "      <th>4</th>\n",
       "      <td>0</td>\n",
       "      <td>[acmh, unstable, angina, sign, dis, admission,...</td>\n",
       "    </tr>\n",
       "  </tbody>\n",
       "</table>\n",
       "</div>"
      ],
      "text/plain": [
       "   y                                        clean_words\n",
       "0  0  [discharge, summary, unsigned, dis, admission,...\n",
       "1  0  [gwh, cad, dis, admission, date, report, statu...\n",
       "2  0  [mhamc, syncope, sign, dis, admission, date, r...\n",
       "3  0  [aluh, ventricular, fibrillation, arrest, sign...\n",
       "4  0  [acmh, unstable, angina, sign, dis, admission,..."
      ]
     },
     "execution_count": 10,
     "metadata": {},
     "output_type": "execute_result"
    }
   ],
   "source": [
    "train_df = pd.read_pickle(\"clean_Train_Textual.pk\")\n",
    "test_df = pd.read_pickle(\"clean_Test_Intuitive.pk\")\n",
    "val_df = pd.read_pickle(\"clean_Validation.pk\")\n",
    "test_df.head()"
   ]
  },
  {
   "cell_type": "code",
   "execution_count": 13,
   "id": "26de7834",
   "metadata": {},
   "outputs": [],
   "source": [
    "# 串聯 train、test、validation 中的 clean_words，再作洗牌（避免 category 順序影響到結果）\n",
    "corpus = pd.concat([train_df.clean_words, test_df.clean_words, val_df.clean_words]).sample(frac=1).reset_index(drop=True)"
   ]
  },
  {
   "cell_type": "code",
   "execution_count": null,
   "id": "294d4ec7",
   "metadata": {},
   "outputs": [],
   "source": []
  },
  {
   "cell_type": "markdown",
   "id": "e317d306",
   "metadata": {},
   "source": [
    "# w2v"
   ]
  },
  {
   "cell_type": "code",
   "execution_count": 14,
   "id": "3ce5ddcb",
   "metadata": {},
   "outputs": [],
   "source": [
    "model = Word2Vec(corpus)"
   ]
  },
  {
   "cell_type": "code",
   "execution_count": 15,
   "id": "d44a1317",
   "metadata": {},
   "outputs": [],
   "source": [
    "# 目前這模型最棒\n",
    "model.save(\"word2vec_WordNumBig2.model\")"
   ]
  },
  {
   "cell_type": "code",
   "execution_count": null,
   "id": "e43c8781",
   "metadata": {},
   "outputs": [],
   "source": []
  },
  {
   "cell_type": "markdown",
   "id": "96f5c2fe",
   "metadata": {},
   "source": [
    "# 挑出>0.9的相近字，加入權重列表"
   ]
  },
  {
   "cell_type": "code",
   "execution_count": 16,
   "id": "58b09070",
   "metadata": {},
   "outputs": [
    {
     "data": {
      "text/plain": [
       "[('morbid', 0.9647314548492432),\n",
       " ('hyperlipidemia', 0.9158067107200623),\n",
       " ('arthritis', 0.9098497629165649),\n",
       " ('asthma', 0.9088093042373657),\n",
       " ('htn', 0.9068505167961121),\n",
       " ('niddm', 0.8954925537109375),\n",
       " ('osa', 0.8901448845863342),\n",
       " ('iddm', 0.8828846216201782),\n",
       " ('fibromyalgia', 0.8820827007293701),\n",
       " ('rheumatoid', 0.8799801468849182)]"
      ]
     },
     "execution_count": 16,
     "metadata": {},
     "output_type": "execute_result"
    }
   ],
   "source": [
    "model.wv.most_similar(\"obesity\")"
   ]
  },
  {
   "cell_type": "code",
   "execution_count": 17,
   "id": "0f319eff",
   "metadata": {},
   "outputs": [
    {
     "data": {
      "text/plain": [
       "[('cals', 0.9427347183227539),\n",
       " ('ada', 0.9390769004821777),\n",
       " ('lactose', 0.9257362484931946),\n",
       " ('salt', 0.9249107837677002),\n",
       " ('fdi', 0.9248932003974915),\n",
       " ('restrict', 0.9202039837837219),\n",
       " ('chol', 0.9153004884719849),\n",
       " ('puree', 0.9034404158592224),\n",
       " ('calorie', 0.8923205733299255),\n",
       " ('restriction', 0.8730531334877014)]"
      ]
     },
     "execution_count": 17,
     "metadata": {},
     "output_type": "execute_result"
    }
   ],
   "source": [
    "# 這不要!!!\n",
    "model.wv.most_similar(\"fat\")"
   ]
  },
  {
   "cell_type": "code",
   "execution_count": 18,
   "id": "9dd53bf7",
   "metadata": {
    "scrolled": true
   },
   "outputs": [
    {
     "data": {
      "text/plain": [
       "[('morbidly', 0.969022810459137),\n",
       " ('elderly', 0.8788843154907227),\n",
       " ('comfortably', 0.8693804144859314),\n",
       " ('nad', 0.8659411072731018),\n",
       " ('pleasant', 0.8633476495742798),\n",
       " ('american', 0.8558352589607239),\n",
       " ('black', 0.8521708250045776),\n",
       " ('apparent', 0.8513118624687195),\n",
       " ('resting', 0.8442603945732117),\n",
       " ('gen', 0.818048894405365)]"
      ]
     },
     "execution_count": 18,
     "metadata": {},
     "output_type": "execute_result"
    }
   ],
   "source": [
    "model.wv.most_similar(\"obese\")"
   ]
  },
  {
   "cell_type": "code",
   "execution_count": 113,
   "id": "b5d259a1",
   "metadata": {},
   "outputs": [
    {
     "data": {
      "text/plain": [
       "[('hyperlipidemia', 0.9732449054718018),\n",
       " ('fibromyalgia', 0.9665047526359558),\n",
       " ('syndrome', 0.9616366028785706),\n",
       " ('osteoarthritis', 0.9549289345741272),\n",
       " ('nephrotic', 0.9542827010154724),\n",
       " ('diverticulitis', 0.9492136240005493),\n",
       " ('rheumatoid', 0.9453961253166199),\n",
       " ('reflux', 0.9450232982635498),\n",
       " ('gastroesophageal', 0.9438592791557312),\n",
       " ('esophageal', 0.9436776638031006)]"
      ]
     },
     "execution_count": 113,
     "metadata": {},
     "output_type": "execute_result"
    }
   ],
   "source": [
    "model.wv.most_similar(\"arthritis\")"
   ]
  },
  {
   "cell_type": "code",
   "execution_count": 114,
   "id": "f4422b11",
   "metadata": {},
   "outputs": [
    {
     "data": {
      "text/plain": [
       "[('obesity', 0.9322591423988342),\n",
       " ('morbid', 0.925388514995575),\n",
       " ('disorder', 0.9134646654129028),\n",
       " ('seizure', 0.8997738361358643),\n",
       " ('rheumatoid', 0.8926672339439392),\n",
       " ('depression', 0.8902297616004944),\n",
       " ('arthritis', 0.8813309073448181),\n",
       " ('hyperlipidemia', 0.8795543313026428),\n",
       " ('hypoventilation', 0.8788267970085144),\n",
       " ('hypercholesterolemia', 0.8672674298286438)]"
      ]
     },
     "execution_count": 114,
     "metadata": {},
     "output_type": "execute_result"
    }
   ],
   "source": [
    "model.wv.most_similar(\"asthma\")"
   ]
  },
  {
   "cell_type": "code",
   "execution_count": 116,
   "id": "c8deb679",
   "metadata": {},
   "outputs": [
    {
     "data": {
      "text/plain": [
       "[('arthritis', 0.9732449054718018),\n",
       " ('gastroesophageal', 0.9642428755760193),\n",
       " ('dyslipidemia', 0.9608422517776489),\n",
       " ('reflux', 0.9607882499694824),\n",
       " ('fibromyalgia', 0.9523942470550537),\n",
       " ('retinopathy', 0.9506011605262756),\n",
       " ('hypercholesterolemia', 0.9504285454750061),\n",
       " ('osteoarthritis', 0.9456179738044739),\n",
       " ('disorder', 0.9436059594154358),\n",
       " ('nephrotic', 0.9395087957382202)]"
      ]
     },
     "execution_count": 116,
     "metadata": {},
     "output_type": "execute_result"
    }
   ],
   "source": [
    "model.wv.most_similar(\"hyperlipidemia\")"
   ]
  },
  {
   "cell_type": "code",
   "execution_count": 117,
   "id": "94d67c0a",
   "metadata": {},
   "outputs": [
    {
     "data": {
      "text/plain": [
       "[('fibromyalgia', 0.9582173824310303),\n",
       " ('pickwickian', 0.9424095749855042),\n",
       " ('arthritis', 0.9398398995399475),\n",
       " ('rheumatoid', 0.9394763112068176),\n",
       " ('migraines', 0.9322516322135925),\n",
       " ('osteoarthritis', 0.9260826706886292),\n",
       " ('obesity', 0.9251806139945984),\n",
       " ('gastritis', 0.923494815826416),\n",
       " ('nephrotic', 0.9177098274230957),\n",
       " ('dementia', 0.9176388382911682)]"
      ]
     },
     "execution_count": 117,
     "metadata": {},
     "output_type": "execute_result"
    }
   ],
   "source": [
    "model.wv.most_similar(\"hypoventilation\")"
   ]
  },
  {
   "cell_type": "code",
   "execution_count": null,
   "id": "7a79725b",
   "metadata": {},
   "outputs": [],
   "source": []
  }
 ],
 "metadata": {
  "kernelspec": {
   "display_name": "Python 3",
   "language": "python",
   "name": "python3"
  },
  "language_info": {
   "codemirror_mode": {
    "name": "ipython",
    "version": 3
   },
   "file_extension": ".py",
   "mimetype": "text/x-python",
   "name": "python",
   "nbconvert_exporter": "python",
   "pygments_lexer": "ipython3",
   "version": "3.8.8"
  }
 },
 "nbformat": 4,
 "nbformat_minor": 5
}
