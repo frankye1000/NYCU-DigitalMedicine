{
 "cells": [
  {
   "cell_type": "code",
   "execution_count": 2,
   "id": "40a9b12c",
   "metadata": {},
   "outputs": [],
   "source": [
    "import pandas as pd\n",
    "from gensim.models.word2vec import Word2Vec\n"
   ]
  },
  {
   "cell_type": "code",
   "execution_count": 3,
   "id": "e8eda74f",
   "metadata": {},
   "outputs": [
    {
     "data": {
      "text/html": [
       "<div>\n",
       "<style scoped>\n",
       "    .dataframe tbody tr th:only-of-type {\n",
       "        vertical-align: middle;\n",
       "    }\n",
       "\n",
       "    .dataframe tbody tr th {\n",
       "        vertical-align: top;\n",
       "    }\n",
       "\n",
       "    .dataframe thead th {\n",
       "        text-align: right;\n",
       "    }\n",
       "</style>\n",
       "<table border=\"1\" class=\"dataframe\">\n",
       "  <thead>\n",
       "    <tr style=\"text-align: right;\">\n",
       "      <th></th>\n",
       "      <th>y</th>\n",
       "      <th>clean_words</th>\n",
       "    </tr>\n",
       "  </thead>\n",
       "  <tbody>\n",
       "    <tr>\n",
       "      <th>0</th>\n",
       "      <td>0</td>\n",
       "      <td>[discharge, summary, unsigned, dis, admission,...</td>\n",
       "    </tr>\n",
       "    <tr>\n",
       "      <th>1</th>\n",
       "      <td>0</td>\n",
       "      <td>[gwh, cad, dis, admission, date, report, statu...</td>\n",
       "    </tr>\n",
       "    <tr>\n",
       "      <th>2</th>\n",
       "      <td>0</td>\n",
       "      <td>[mhamc, syncope, sign, dis, admission, date, r...</td>\n",
       "    </tr>\n",
       "    <tr>\n",
       "      <th>3</th>\n",
       "      <td>0</td>\n",
       "      <td>[aluh, ventricular, fibrillation, arrest, sign...</td>\n",
       "    </tr>\n",
       "    <tr>\n",
       "      <th>4</th>\n",
       "      <td>0</td>\n",
       "      <td>[acmh, unstable, angina, sign, dis, admission,...</td>\n",
       "    </tr>\n",
       "  </tbody>\n",
       "</table>\n",
       "</div>"
      ],
      "text/plain": [
       "   y                                        clean_words\n",
       "0  0  [discharge, summary, unsigned, dis, admission,...\n",
       "1  0  [gwh, cad, dis, admission, date, report, statu...\n",
       "2  0  [mhamc, syncope, sign, dis, admission, date, r...\n",
       "3  0  [aluh, ventricular, fibrillation, arrest, sign...\n",
       "4  0  [acmh, unstable, angina, sign, dis, admission,..."
      ]
     },
     "execution_count": 3,
     "metadata": {},
     "output_type": "execute_result"
    }
   ],
   "source": [
    "train_df = pd.read_pickle(\"clean_Train_Textual.pk\")\n",
    "test_df = pd.read_pickle(\"clean_Test_Intuitive.pk\")\n",
    "val_df = pd.read_pickle(\"clean_Validation.pk\")\n",
    "test_df.head()"
   ]
  },
  {
   "cell_type": "code",
   "execution_count": 4,
   "id": "26de7834",
   "metadata": {},
   "outputs": [],
   "source": [
    "# 串聯 train、test、validation 中的 clean_words，再作洗牌（避免 category 順序影響到結果）\n",
    "corpus = pd.concat([train_df.clean_words, test_df.clean_words, val_df.clean_words]).sample(frac=1).reset_index(drop=True)"
   ]
  },
  {
   "cell_type": "code",
   "execution_count": null,
   "id": "294d4ec7",
   "metadata": {},
   "outputs": [],
   "source": []
  },
  {
   "cell_type": "markdown",
   "id": "e317d306",
   "metadata": {},
   "source": [
    "# w2v"
   ]
  },
  {
   "cell_type": "code",
   "execution_count": 5,
   "id": "3ce5ddcb",
   "metadata": {},
   "outputs": [],
   "source": [
    "model = Word2Vec(corpus)"
   ]
  },
  {
   "cell_type": "code",
   "execution_count": 6,
   "id": "d44a1317",
   "metadata": {},
   "outputs": [],
   "source": [
    "# 目前這模型最棒\n",
    "model.save(\"w2v_model/word2vec_WordNumBig2.model\")"
   ]
  },
  {
   "cell_type": "code",
   "execution_count": null,
   "id": "c0aca443",
   "metadata": {},
   "outputs": [],
   "source": []
  },
  {
   "cell_type": "markdown",
   "id": "03632961",
   "metadata": {},
   "source": [
    "# 挑出>0.9的相近字，加入權重列表"
   ]
  },
  {
   "cell_type": "code",
   "execution_count": 7,
   "id": "58b09070",
   "metadata": {},
   "outputs": [
    {
     "data": {
      "text/plain": [
       "[('morbid', 0.9735238552093506),\n",
       " ('hyperlipidemia', 0.9293122291564941),\n",
       " ('htn', 0.9275800585746765),\n",
       " ('niddm', 0.9142072796821594),\n",
       " ('asthma', 0.9123290777206421),\n",
       " ('iddm', 0.9079799652099609),\n",
       " ('osa', 0.9077683687210083),\n",
       " ('fibromyalgia', 0.890098512172699),\n",
       " ('hyperchol', 0.8806143999099731),\n",
       " ('arthritis', 0.8709917664527893)]"
      ]
     },
     "execution_count": 7,
     "metadata": {},
     "output_type": "execute_result"
    }
   ],
   "source": [
    "model.wv.most_similar(\"obesity\")"
   ]
  },
  {
   "cell_type": "code",
   "execution_count": 8,
   "id": "0f319eff",
   "metadata": {},
   "outputs": [
    {
     "data": {
      "text/plain": [
       "[('cals', 0.9506825804710388),\n",
       " ('ada', 0.9411351084709167),\n",
       " ('restrict', 0.9328590035438538),\n",
       " ('chol', 0.9253806471824646),\n",
       " ('lactose', 0.9183334112167358),\n",
       " ('salt', 0.9150761365890503),\n",
       " ('calorie', 0.9094550013542175),\n",
       " ('fdi', 0.9048776030540466),\n",
       " ('puree', 0.886994481086731),\n",
       " ('carbohydrate', 0.8856747150421143)]"
      ]
     },
     "execution_count": 8,
     "metadata": {},
     "output_type": "execute_result"
    }
   ],
   "source": [
    "# 這不要!!!\n",
    "model.wv.most_similar(\"fat\")"
   ]
  },
  {
   "cell_type": "code",
   "execution_count": 9,
   "id": "9dd53bf7",
   "metadata": {
    "scrolled": true
   },
   "outputs": [
    {
     "data": {
      "text/plain": [
       "[('morbidly', 0.9655032157897949),\n",
       " ('elderly', 0.8966647386550903),\n",
       " ('nad', 0.8854711651802063),\n",
       " ('pleasant', 0.8781498670578003),\n",
       " ('gen', 0.8697434067726135),\n",
       " ('apparent', 0.8621164560317993),\n",
       " ('american', 0.8567323684692383),\n",
       " ('comfortably', 0.8494060635566711),\n",
       " ('black', 0.8420602679252625),\n",
       " ('african', 0.8324952125549316)]"
      ]
     },
     "execution_count": 9,
     "metadata": {},
     "output_type": "execute_result"
    }
   ],
   "source": [
    "model.wv.most_similar(\"obese\")"
   ]
  },
  {
   "cell_type": "code",
   "execution_count": 10,
   "id": "b5d259a1",
   "metadata": {},
   "outputs": [
    {
     "data": {
      "text/plain": [
       "[('fibromyalgia', 0.9499101042747498),\n",
       " ('osteoarthritis', 0.9465962052345276),\n",
       " ('rheumatoid', 0.9299685955047607),\n",
       " ('hyperlipidemia', 0.9282900094985962),\n",
       " ('djd', 0.9266976714134216),\n",
       " ('diverticulitis', 0.919063925743103),\n",
       " ('nephrotic', 0.917955219745636),\n",
       " ('dyslipidemia', 0.9164667129516602),\n",
       " ('diverticulosis', 0.9101144075393677),\n",
       " ('ulcerative', 0.9088346362113953)]"
      ]
     },
     "execution_count": 10,
     "metadata": {},
     "output_type": "execute_result"
    }
   ],
   "source": [
    "model.wv.most_similar(\"arthritis\")"
   ]
  },
  {
   "cell_type": "code",
   "execution_count": 11,
   "id": "f4422b11",
   "metadata": {},
   "outputs": [
    {
     "data": {
      "text/plain": [
       "[('copd', 0.9269251227378845),\n",
       " ('obesity', 0.9123291373252869),\n",
       " ('morbid', 0.8989593386650085),\n",
       " ('pmh', 0.8896595239639282),\n",
       " ('osa', 0.8863140940666199),\n",
       " ('flare', 0.878251314163208),\n",
       " ('disorder', 0.8651127815246582),\n",
       " ('rheumatoid', 0.8630911111831665),\n",
       " ('htn', 0.8570194840431213),\n",
       " ('hyperlipidemia', 0.8569756150245667)]"
      ]
     },
     "execution_count": 11,
     "metadata": {},
     "output_type": "execute_result"
    }
   ],
   "source": [
    "model.wv.most_similar(\"asthma\")"
   ]
  },
  {
   "cell_type": "code",
   "execution_count": 12,
   "id": "c8deb679",
   "metadata": {},
   "outputs": [
    {
     "data": {
      "text/plain": [
       "[('iddm', 0.9541292786598206),\n",
       " ('dyslipidemia', 0.9469659328460693),\n",
       " ('niddm', 0.9452123641967773),\n",
       " ('fibromyalgia', 0.9423675537109375),\n",
       " ('hyperchol', 0.9353063702583313),\n",
       " ('obesity', 0.9293122291564941),\n",
       " ('arthritis', 0.9282900094985962),\n",
       " ('pvd', 0.9156802892684937),\n",
       " ('hypercholesterolemia', 0.9148457646369934),\n",
       " ('hypothyroidism', 0.9108158349990845)]"
      ]
     },
     "execution_count": 12,
     "metadata": {},
     "output_type": "execute_result"
    }
   ],
   "source": [
    "model.wv.most_similar(\"hyperlipidemia\")"
   ]
  },
  {
   "cell_type": "code",
   "execution_count": 13,
   "id": "94d67c0a",
   "metadata": {},
   "outputs": [
    {
     "data": {
      "text/plain": [
       "[('fibromyalgia', 0.9398036003112793),\n",
       " ('paraplegia', 0.9288778901100159),\n",
       " ('sarcoid', 0.919008731842041),\n",
       " ('osa', 0.919006884098053),\n",
       " ('dyslipidemia', 0.9120007157325745),\n",
       " ('gastritis', 0.9085380434989929),\n",
       " ('ccy', 0.9066927433013916),\n",
       " ('sev', 0.9058631062507629),\n",
       " ('rheumatoid', 0.9046034216880798),\n",
       " ('cholelithiasis', 0.9023709297180176)]"
      ]
     },
     "execution_count": 13,
     "metadata": {},
     "output_type": "execute_result"
    }
   ],
   "source": [
    "model.wv.most_similar(\"hypoventilation\")"
   ]
  },
  {
   "cell_type": "code",
   "execution_count": null,
   "id": "7a79725b",
   "metadata": {},
   "outputs": [],
   "source": []
  },
  {
   "cell_type": "code",
   "execution_count": null,
   "id": "099afde1",
   "metadata": {},
   "outputs": [],
   "source": []
  }
 ],
 "metadata": {
  "kernelspec": {
   "display_name": "Python 3",
   "language": "python",
   "name": "python3"
  },
  "language_info": {
   "codemirror_mode": {
    "name": "ipython",
    "version": 3
   },
   "file_extension": ".py",
   "mimetype": "text/x-python",
   "name": "python",
   "nbconvert_exporter": "python",
   "pygments_lexer": "ipython3",
   "version": "3.8.8"
  }
 },
 "nbformat": 4,
 "nbformat_minor": 5
}
