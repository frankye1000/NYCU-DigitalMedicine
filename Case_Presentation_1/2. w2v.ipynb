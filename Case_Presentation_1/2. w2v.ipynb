{
 "cells": [
  {
   "cell_type": "code",
   "execution_count": 6,
   "id": "40a9b12c",
   "metadata": {},
   "outputs": [],
   "source": [
    "import pandas as pd\n",
    "from gensim.models.word2vec import Word2Vec"
   ]
  },
  {
   "cell_type": "code",
   "execution_count": 7,
   "id": "e8eda74f",
   "metadata": {},
   "outputs": [
    {
     "data": {
      "text/html": [
       "<div>\n",
       "<style scoped>\n",
       "    .dataframe tbody tr th:only-of-type {\n",
       "        vertical-align: middle;\n",
       "    }\n",
       "\n",
       "    .dataframe tbody tr th {\n",
       "        vertical-align: top;\n",
       "    }\n",
       "\n",
       "    .dataframe thead th {\n",
       "        text-align: right;\n",
       "    }\n",
       "</style>\n",
       "<table border=\"1\" class=\"dataframe\">\n",
       "  <thead>\n",
       "    <tr style=\"text-align: right;\">\n",
       "      <th></th>\n",
       "      <th>y</th>\n",
       "      <th>clean_words</th>\n",
       "    </tr>\n",
       "  </thead>\n",
       "  <tbody>\n",
       "    <tr>\n",
       "      <th>0</th>\n",
       "      <td>0</td>\n",
       "      <td>[discharge, summary, unsigned, dis, admission,...</td>\n",
       "    </tr>\n",
       "    <tr>\n",
       "      <th>1</th>\n",
       "      <td>0</td>\n",
       "      <td>[gwh, cad, dis, admission, date, report, statu...</td>\n",
       "    </tr>\n",
       "    <tr>\n",
       "      <th>2</th>\n",
       "      <td>0</td>\n",
       "      <td>[mhamc, syncope, sign, dis, admission, date, r...</td>\n",
       "    </tr>\n",
       "    <tr>\n",
       "      <th>3</th>\n",
       "      <td>0</td>\n",
       "      <td>[aluh, ventricular, fibrillation, arrest, sign...</td>\n",
       "    </tr>\n",
       "    <tr>\n",
       "      <th>4</th>\n",
       "      <td>0</td>\n",
       "      <td>[acmh, unstable, angina, sign, dis, admission,...</td>\n",
       "    </tr>\n",
       "  </tbody>\n",
       "</table>\n",
       "</div>"
      ],
      "text/plain": [
       "   y                                        clean_words\n",
       "0  0  [discharge, summary, unsigned, dis, admission,...\n",
       "1  0  [gwh, cad, dis, admission, date, report, statu...\n",
       "2  0  [mhamc, syncope, sign, dis, admission, date, r...\n",
       "3  0  [aluh, ventricular, fibrillation, arrest, sign...\n",
       "4  0  [acmh, unstable, angina, sign, dis, admission,..."
      ]
     },
     "execution_count": 7,
     "metadata": {},
     "output_type": "execute_result"
    }
   ],
   "source": [
    "train_df = pd.read_pickle(\"clean_Train_Textual.pk\")\n",
    "test_df = pd.read_pickle(\"clean_Test_Intuitive.pk\")\n",
    "val_df = pd.read_pickle(\"clean_Validation.pk\")\n",
    "test_df.head()"
   ]
  },
  {
   "cell_type": "code",
   "execution_count": 8,
   "id": "26de7834",
   "metadata": {},
   "outputs": [],
   "source": [
    "# 串聯 train、test、validation 中的 clean_words，再作洗牌（避免 category 順序影響到結果）\n",
    "corpus = pd.concat([train_df.clean_words, test_df.clean_words, val_df.clean_words]).sample(frac=1).reset_index(drop=True)"
   ]
  },
  {
   "cell_type": "code",
   "execution_count": null,
   "id": "294d4ec7",
   "metadata": {},
   "outputs": [],
   "source": []
  },
  {
   "cell_type": "markdown",
   "id": "e317d306",
   "metadata": {},
   "source": [
    "# w2v"
   ]
  },
  {
   "cell_type": "code",
   "execution_count": 16,
   "id": "3ce5ddcb",
   "metadata": {},
   "outputs": [],
   "source": [
    "model = Word2Vec(corpus, vector_size=256, epochs=6)"
   ]
  },
  {
   "cell_type": "code",
   "execution_count": 17,
   "id": "d44a1317",
   "metadata": {},
   "outputs": [],
   "source": [
    "# 目前這模型最棒\n",
    "model.save(\"w2v_model/word2vec_WordNumBig250.model\")"
   ]
  },
  {
   "cell_type": "code",
   "execution_count": null,
   "id": "c0aca443",
   "metadata": {},
   "outputs": [],
   "source": []
  },
  {
   "cell_type": "markdown",
   "id": "03632961",
   "metadata": {},
   "source": [
    "# 挑出>0.9的相近字，加入權重列表"
   ]
  },
  {
   "cell_type": "code",
   "execution_count": 12,
   "id": "58b09070",
   "metadata": {},
   "outputs": [
    {
     "data": {
      "text/plain": [
       "[('morbid', 0.9255233407020569),\n",
       " ('niddm', 0.8251988887786865),\n",
       " ('hyperlipidemia', 0.7824861407279968),\n",
       " ('hypoventilation', 0.7810660004615784),\n",
       " ('osa', 0.7638143301010132),\n",
       " ('htn', 0.7630886435508728),\n",
       " ('iddm', 0.7584477663040161),\n",
       " ('retinopathy', 0.7446915507316589),\n",
       " ('fibromyalgia', 0.743985116481781),\n",
       " ('asthma', 0.7344161868095398)]"
      ]
     },
     "execution_count": 12,
     "metadata": {},
     "output_type": "execute_result"
    }
   ],
   "source": [
    "model.wv.most_similar(\"obesity\")"
   ]
  },
  {
   "cell_type": "code",
   "execution_count": 13,
   "id": "0f319eff",
   "metadata": {},
   "outputs": [
    {
     "data": {
      "text/plain": [
       "[('chol', 0.8540788292884827),\n",
       " ('cals', 0.8428333401679993),\n",
       " ('ada', 0.8326669335365295),\n",
       " ('salt', 0.831631600856781),\n",
       " ('carbohydrate', 0.7931515574455261),\n",
       " ('fdi', 0.784212589263916),\n",
       " ('restrict', 0.7765461206436157),\n",
       " ('calorie', 0.7696981430053711),\n",
       " ('lactose', 0.7302534580230713),\n",
       " ('saturate', 0.7281064391136169)]"
      ]
     },
     "execution_count": 13,
     "metadata": {},
     "output_type": "execute_result"
    }
   ],
   "source": [
    "# 這不要!!!\n",
    "model.wv.most_similar(\"fat\")"
   ]
  },
  {
   "cell_type": "code",
   "execution_count": 14,
   "id": "9dd53bf7",
   "metadata": {
    "scrolled": true
   },
   "outputs": [
    {
     "data": {
      "text/plain": [
       "[('morbidly', 0.9375091791152954),\n",
       " ('elderly', 0.8639546036720276),\n",
       " ('pleasant', 0.8368983268737793),\n",
       " ('american', 0.8204496502876282),\n",
       " ('resting', 0.8148099780082703),\n",
       " ('african', 0.7970536351203918),\n",
       " ('apparent', 0.782322347164154),\n",
       " ('male', 0.7790108323097229),\n",
       " ('nad', 0.7654834389686584),\n",
       " ('thin', 0.7627282738685608)]"
      ]
     },
     "execution_count": 14,
     "metadata": {},
     "output_type": "execute_result"
    }
   ],
   "source": [
    "model.wv.most_similar(\"obese\")"
   ]
  },
  {
   "cell_type": "code",
   "execution_count": 15,
   "id": "b5d259a1",
   "metadata": {},
   "outputs": [
    {
     "data": {
      "text/plain": [
       "[('rheumatoid', 0.9120237827301025),\n",
       " ('fibromyalgia', 0.8638467192649841),\n",
       " ('djd', 0.8581992983818054),\n",
       " ('osteoarthritis', 0.8294374346733093),\n",
       " ('gout', 0.8288411498069763),\n",
       " ('hyperlipidemia', 0.8250009417533875),\n",
       " ('dyslipidemia', 0.8151419162750244),\n",
       " ('diverticulosis', 0.8124238848686218),\n",
       " ('osteoporosis', 0.8071830868721008),\n",
       " ('ccy', 0.8039998412132263)]"
      ]
     },
     "execution_count": 15,
     "metadata": {},
     "output_type": "execute_result"
    }
   ],
   "source": [
    "model.wv.most_similar(\"arthritis\")"
   ]
  },
  {
   "cell_type": "code",
   "execution_count": 11,
   "id": "f4422b11",
   "metadata": {},
   "outputs": [
    {
     "data": {
      "text/plain": [
       "[('copd', 0.9269251227378845),\n",
       " ('obesity', 0.9123291373252869),\n",
       " ('morbid', 0.8989593386650085),\n",
       " ('pmh', 0.8896595239639282),\n",
       " ('osa', 0.8863140940666199),\n",
       " ('flare', 0.878251314163208),\n",
       " ('disorder', 0.8651127815246582),\n",
       " ('rheumatoid', 0.8630911111831665),\n",
       " ('htn', 0.8570194840431213),\n",
       " ('hyperlipidemia', 0.8569756150245667)]"
      ]
     },
     "execution_count": 11,
     "metadata": {},
     "output_type": "execute_result"
    }
   ],
   "source": [
    "model.wv.most_similar(\"asthma\")"
   ]
  },
  {
   "cell_type": "code",
   "execution_count": 12,
   "id": "c8deb679",
   "metadata": {},
   "outputs": [
    {
     "data": {
      "text/plain": [
       "[('iddm', 0.9541292786598206),\n",
       " ('dyslipidemia', 0.9469659328460693),\n",
       " ('niddm', 0.9452123641967773),\n",
       " ('fibromyalgia', 0.9423675537109375),\n",
       " ('hyperchol', 0.9353063702583313),\n",
       " ('obesity', 0.9293122291564941),\n",
       " ('arthritis', 0.9282900094985962),\n",
       " ('pvd', 0.9156802892684937),\n",
       " ('hypercholesterolemia', 0.9148457646369934),\n",
       " ('hypothyroidism', 0.9108158349990845)]"
      ]
     },
     "execution_count": 12,
     "metadata": {},
     "output_type": "execute_result"
    }
   ],
   "source": [
    "model.wv.most_similar(\"hyperlipidemia\")"
   ]
  },
  {
   "cell_type": "code",
   "execution_count": 13,
   "id": "94d67c0a",
   "metadata": {},
   "outputs": [
    {
     "data": {
      "text/plain": [
       "[('fibromyalgia', 0.9398036003112793),\n",
       " ('paraplegia', 0.9288778901100159),\n",
       " ('sarcoid', 0.919008731842041),\n",
       " ('osa', 0.919006884098053),\n",
       " ('dyslipidemia', 0.9120007157325745),\n",
       " ('gastritis', 0.9085380434989929),\n",
       " ('ccy', 0.9066927433013916),\n",
       " ('sev', 0.9058631062507629),\n",
       " ('rheumatoid', 0.9046034216880798),\n",
       " ('cholelithiasis', 0.9023709297180176)]"
      ]
     },
     "execution_count": 13,
     "metadata": {},
     "output_type": "execute_result"
    }
   ],
   "source": [
    "model.wv.most_similar(\"hypoventilation\")"
   ]
  },
  {
   "cell_type": "code",
   "execution_count": null,
   "id": "7a79725b",
   "metadata": {},
   "outputs": [],
   "source": []
  },
  {
   "cell_type": "code",
   "execution_count": null,
   "id": "099afde1",
   "metadata": {},
   "outputs": [],
   "source": []
  }
 ],
 "metadata": {
  "kernelspec": {
   "display_name": "Python 3",
   "language": "python",
   "name": "python3"
  },
  "language_info": {
   "codemirror_mode": {
    "name": "ipython",
    "version": 3
   },
   "file_extension": ".py",
   "mimetype": "text/x-python",
   "name": "python",
   "nbconvert_exporter": "python",
   "pygments_lexer": "ipython3",
   "version": "3.8.8"
  }
 },
 "nbformat": 4,
 "nbformat_minor": 5
}
