{
 "cells": [
  {
   "cell_type": "code",
   "execution_count": 20,
   "id": "ab135d5f",
   "metadata": {},
   "outputs": [],
   "source": [
    "import gensim\n",
    "import numpy as np\n",
    "import pandas as pd"
   ]
  },
  {
   "cell_type": "code",
   "execution_count": 15,
   "id": "94d3756f",
   "metadata": {},
   "outputs": [],
   "source": [
    "# Load pre-trained Word2Vec model.\n",
    "model = gensim.models.Word2Vec.load(\"w2v_model/word2vec_WordNumBig2.model\")"
   ]
  },
  {
   "cell_type": "code",
   "execution_count": 23,
   "id": "cd6b089b",
   "metadata": {},
   "outputs": [
    {
     "data": {
      "text/plain": [
       "100"
      ]
     },
     "execution_count": 23,
     "metadata": {},
     "output_type": "execute_result"
    }
   ],
   "source": [
    "vector_size = model.wv.vector_size\n",
    "vector_size"
   ]
  },
  {
   "cell_type": "markdown",
   "id": "1b936951",
   "metadata": {},
   "source": [
    "# 驗證集"
   ]
  },
  {
   "cell_type": "code",
   "execution_count": 83,
   "id": "f53e6ca8",
   "metadata": {},
   "outputs": [],
   "source": [
    "val_df = pd.read_pickle(\"clean_Validation.pk\")\n",
    "text2vec = []\n",
    "for text in val_df.clean_words:\n",
    "    wordNumber = 0\n",
    "    totalWordVec = np.zeros(vector_size)\n",
    "    for word in text:\n",
    "        try:\n",
    "            totalWordVec += model.wv[word]\n",
    "            wordNumber += 1\n",
    "        except:\n",
    "            continue\n",
    "    text2vec.append(totalWordVec/wordNumber)\n",
    "x_val = np.array(text2vec)"
   ]
  },
  {
   "cell_type": "markdown",
   "id": "0220fb31",
   "metadata": {},
   "source": [
    "# 訓練集"
   ]
  },
  {
   "cell_type": "code",
   "execution_count": 84,
   "id": "bd5cc28d",
   "metadata": {},
   "outputs": [],
   "source": [
    "test_df = pd.read_pickle(\"clean_Test_Intuitive_VAL.pk\")"
   ]
  },
  {
   "cell_type": "code",
   "execution_count": 85,
   "id": "3b9c1428",
   "metadata": {},
   "outputs": [],
   "source": [
    "text2vec = []\n",
    "for text in test_df.clean_words:\n",
    "    wordNumber = 0\n",
    "    totalWordVec = np.zeros(vector_size)\n",
    "    for word in text:\n",
    "        try:\n",
    "            totalWordVec += model.wv[word]\n",
    "            wordNumber += 1\n",
    "        except:\n",
    "            continue\n",
    "    text2vec.append(totalWordVec/wordNumber)\n",
    "\n",
    "X = np.array(text2vec)\n",
    "y = test_df.y"
   ]
  },
  {
   "cell_type": "code",
   "execution_count": null,
   "id": "706e68f7",
   "metadata": {},
   "outputs": [],
   "source": []
  },
  {
   "cell_type": "markdown",
   "id": "ad047dc8",
   "metadata": {},
   "source": [
    "# Random Forest"
   ]
  },
  {
   "cell_type": "code",
   "execution_count": 90,
   "id": "eae5221b",
   "metadata": {},
   "outputs": [],
   "source": [
    "from sklearn.ensemble import RandomForestClassifier\n",
    "\n",
    "clf = RandomForestClassifier(max_depth=100, n_estimators = 200)\n",
    "clf.fit(X, y)\n",
    "\n",
    "\n",
    "pred = clf.predict(x_val)\n",
    "sample = val_df\n",
    "sample[\"Obesity\"] = pred\n",
    "sample = sample.drop([\"clean_words\"], axis=1)\n",
    "sample.to_csv(\"sample_submission.csv\", index=False)"
   ]
  },
  {
   "cell_type": "markdown",
   "id": "5c2ded24",
   "metadata": {},
   "source": [
    "# Naive Bayes"
   ]
  },
  {
   "cell_type": "code",
   "execution_count": 87,
   "id": "5fdea0cf",
   "metadata": {},
   "outputs": [],
   "source": [
    "from sklearn.naive_bayes import GaussianNB\n",
    "\n",
    "gnb = GaussianNB()\n",
    "pred = gnb.fit(X, y).predict(x_val)\n",
    "sample = val_df\n",
    "sample[\"Obesity\"] = pred\n",
    "sample = sample.drop([\"clean_words\"], axis=1)\n",
    "sample.to_csv(\"sample_submission.csv\", index=False)"
   ]
  },
  {
   "cell_type": "markdown",
   "id": "fca74375",
   "metadata": {},
   "source": [
    "# XGboost"
   ]
  },
  {
   "cell_type": "code",
   "execution_count": 89,
   "id": "460286c0",
   "metadata": {},
   "outputs": [
    {
     "name": "stdout",
     "output_type": "stream",
     "text": [
      "[11:23:32] WARNING: C:/Users/Administrator/workspace/xgboost-win64_release_1.4.0/src/learner.cc:1095: Starting in XGBoost 1.3.0, the default evaluation metric used with the objective 'binary:logistic' was changed from 'error' to 'logloss'. Explicitly set eval_metric if you'd like to restore the old behavior.\n"
     ]
    }
   ],
   "source": [
    "from xgboost import XGBClassifier\n",
    "xgb = XGBClassifier()\n",
    "xgb.fit(X, y)\n",
    "\n",
    "pred = xgb.predict(x_val)\n",
    "sample = val_df\n",
    "sample[\"Obesity\"] = pred\n",
    "sample = sample.drop([\"clean_words\"], axis=1)\n",
    "sample.to_csv(\"sample_submission.csv\", index=False)\n"
   ]
  },
  {
   "cell_type": "code",
   "execution_count": null,
   "id": "1f4e07d8",
   "metadata": {},
   "outputs": [],
   "source": []
  },
  {
   "cell_type": "code",
   "execution_count": null,
   "id": "a8bac772",
   "metadata": {},
   "outputs": [],
   "source": []
  },
  {
   "cell_type": "code",
   "execution_count": null,
   "id": "8eb6236c",
   "metadata": {},
   "outputs": [],
   "source": []
  },
  {
   "cell_type": "code",
   "execution_count": null,
   "id": "87f7a0f5",
   "metadata": {},
   "outputs": [],
   "source": []
  },
  {
   "cell_type": "code",
   "execution_count": 21,
   "id": "0e4e9cd3",
   "metadata": {},
   "outputs": [],
   "source": []
  },
  {
   "cell_type": "code",
   "execution_count": 44,
   "id": "1bd96e78",
   "metadata": {},
   "outputs": [],
   "source": []
  },
  {
   "cell_type": "code",
   "execution_count": null,
   "id": "64b046af",
   "metadata": {},
   "outputs": [],
   "source": []
  },
  {
   "cell_type": "code",
   "execution_count": null,
   "id": "7ba943d9",
   "metadata": {},
   "outputs": [],
   "source": []
  }
 ],
 "metadata": {
  "kernelspec": {
   "display_name": "Python 3",
   "language": "python",
   "name": "python3"
  },
  "language_info": {
   "codemirror_mode": {
    "name": "ipython",
    "version": 3
   },
   "file_extension": ".py",
   "mimetype": "text/x-python",
   "name": "python",
   "nbconvert_exporter": "python",
   "pygments_lexer": "ipython3",
   "version": "3.8.8"
  }
 },
 "nbformat": 4,
 "nbformat_minor": 5
}
