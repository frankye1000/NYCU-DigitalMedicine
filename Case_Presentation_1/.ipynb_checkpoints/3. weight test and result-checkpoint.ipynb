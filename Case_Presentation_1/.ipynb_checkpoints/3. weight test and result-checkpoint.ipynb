{
 "cells": [
  {
   "cell_type": "code",
   "execution_count": 1,
   "id": "ccd215c8",
   "metadata": {},
   "outputs": [],
   "source": [
    "import pandas as pd\n",
    "from sklearn.metrics import confusion_matrix\n",
    "from sklearn.metrics import accuracy_score\n",
    "from sklearn.metrics import precision_score\n",
    "from sklearn.metrics import recall_score\n",
    "from sklearn.metrics import f1_score"
   ]
  },
  {
   "cell_type": "code",
   "execution_count": 2,
   "id": "ecd4f080",
   "metadata": {
    "scrolled": true
   },
   "outputs": [
    {
     "data": {
      "text/html": [
       "<div>\n",
       "<style scoped>\n",
       "    .dataframe tbody tr th:only-of-type {\n",
       "        vertical-align: middle;\n",
       "    }\n",
       "\n",
       "    .dataframe tbody tr th {\n",
       "        vertical-align: top;\n",
       "    }\n",
       "\n",
       "    .dataframe thead th {\n",
       "        text-align: right;\n",
       "    }\n",
       "</style>\n",
       "<table border=\"1\" class=\"dataframe\">\n",
       "  <thead>\n",
       "    <tr style=\"text-align: right;\">\n",
       "      <th></th>\n",
       "      <th>Filename</th>\n",
       "      <th>clean_words</th>\n",
       "    </tr>\n",
       "  </thead>\n",
       "  <tbody>\n",
       "    <tr>\n",
       "      <th>0</th>\n",
       "      <td>ID_1159.txt</td>\n",
       "      <td>[inderal, great, year, abdomen, history, assoc...</td>\n",
       "    </tr>\n",
       "    <tr>\n",
       "      <th>1</th>\n",
       "      <td>ID_1160.txt</td>\n",
       "      <td>[leg, sigmoid, inflammatory, suggest, hand, ne...</td>\n",
       "    </tr>\n",
       "    <tr>\n",
       "      <th>2</th>\n",
       "      <td>ID_1162.txt</td>\n",
       "      <td>[appointment, disposition, episode, cva, levo,...</td>\n",
       "    </tr>\n",
       "    <tr>\n",
       "      <th>3</th>\n",
       "      <td>ID_1167.txt</td>\n",
       "      <td>[urologist, dilate, diuretic, holosystolic, ye...</td>\n",
       "    </tr>\n",
       "    <tr>\n",
       "      <th>4</th>\n",
       "      <td>ID_1168.txt</td>\n",
       "      <td>[therapeutic, dilate, adriamycin, great, year,...</td>\n",
       "    </tr>\n",
       "  </tbody>\n",
       "</table>\n",
       "</div>"
      ],
      "text/plain": [
       "      Filename                                        clean_words\n",
       "0  ID_1159.txt  [inderal, great, year, abdomen, history, assoc...\n",
       "1  ID_1160.txt  [leg, sigmoid, inflammatory, suggest, hand, ne...\n",
       "2  ID_1162.txt  [appointment, disposition, episode, cva, levo,...\n",
       "3  ID_1167.txt  [urologist, dilate, diuretic, holosystolic, ye...\n",
       "4  ID_1168.txt  [therapeutic, dilate, adriamycin, great, year,..."
      ]
     },
     "execution_count": 2,
     "metadata": {},
     "output_type": "execute_result"
    }
   ],
   "source": [
    "train_df = pd.read_pickle(\"clean_Train_Textual_VAL.pk\")  # 要讀取 *_VAL，字詞不重複\n",
    "test_df = pd.read_pickle(\"clean_Test_Intuitive_VAL.pk\")\n",
    "val_df = pd.read_pickle(\"clean_Validation_VAL.pk\")\n",
    "val_df.head()"
   ]
  },
  {
   "cell_type": "code",
   "execution_count": null,
   "id": "de5fc835",
   "metadata": {},
   "outputs": [],
   "source": []
  },
  {
   "cell_type": "markdown",
   "id": "16d820ac",
   "metadata": {},
   "source": [
    "# 建立權重列表想法:\n",
    "## 1. obesity、obese為肥胖重點單字，所以給予50分評價，如果這篇文章有出現一個肥胖字(總分>=50)就是肥胖\n",
    "\n",
    "## 2. morbidly、morbid、hyperlipidemia和肥胖相關字最相近，所以給予28分權重，只有出現兩個相近字(>=50)就是肥胖\n",
    "\n",
    "## 3. asthma、htn不這麼接近，所以給予20分權重，要出現3次(>=50分)才會是肥胖"
   ]
  },
  {
   "cell_type": "code",
   "execution_count": 4,
   "id": "726a385c",
   "metadata": {},
   "outputs": [],
   "source": [
    "keyWords={\"obesity\":50,\n",
    "        \"obese\":50,\n",
    "        \"morbidly\":28,\n",
    "        \"morbid\":28,\n",
    "        \"hyperlipidemia\":28,\n",
    "        \"asthma\":20,\n",
    "        \"htn\":20,\n",
    "#         \"elderly\":20,\n",
    "}"
   ]
  },
  {
   "cell_type": "code",
   "execution_count": null,
   "id": "c9dfd48b",
   "metadata": {},
   "outputs": [],
   "source": []
  },
  {
   "cell_type": "markdown",
   "id": "c7786e9d",
   "metadata": {},
   "source": [
    "# 測試集資料結果"
   ]
  },
  {
   "cell_type": "code",
   "execution_count": null,
   "id": "6653ff6b",
   "metadata": {
    "scrolled": true
   },
   "outputs": [],
   "source": [
    "# test_data_val\n",
    "points = []\n",
    "preds = []\n",
    "for clean_words in test_df.clean_words:   \n",
    "    point = 0\n",
    "    for word in clean_words:\n",
    "        if word in keyWords:              ## <<== 算分數\n",
    "            point+=keyWords[word]\n",
    "    \n",
    "    pred = 0\n",
    "    if point >= 50:                       ## <<== 總分大於50就是肥胖\n",
    "        pred = 1\n",
    "    \n",
    "    points.append(point)\n",
    "    preds.append(pred)\n",
    "    \n",
    "test_df[\"points\"] = points\n",
    "test_df[\"preds\"] = preds\n",
    "test_df.to_csv(\"point_test.csv\")          ##<<== 儲存預測結果 \n",
    "\n",
    "\n",
    "pred = preds\n",
    "true = list(test_df.y)\n",
    "\n",
    "## 計算confusion_matrix和相關驗證數值\n",
    "c = confusion_matrix(true, pred)\n",
    "print(\"confusion_matrix: \\n\", c)\n",
    "accuracy = accuracy_score(true, pred)\n",
    "precision = precision_score(true, pred)\n",
    "recall = recall_score(true, pred)\n",
    "f1 = f1_score(true, pred)\n",
    "print(\"precison:\", precision)\n",
    "print(\"recall:\", recall)\n",
    "print(\"accuracy:\", accuracy)\n",
    "print(\"f1:\", f1)"
   ]
  },
  {
   "cell_type": "code",
   "execution_count": null,
   "id": "3be4150a",
   "metadata": {},
   "outputs": [],
   "source": []
  },
  {
   "cell_type": "markdown",
   "id": "f7a6f92a",
   "metadata": {},
   "source": [
    "# 訓練集驗證結果"
   ]
  },
  {
   "cell_type": "code",
   "execution_count": null,
   "id": "6f61f436",
   "metadata": {
    "scrolled": true
   },
   "outputs": [],
   "source": [
    "# test_data_val\n",
    "points = []\n",
    "preds = []\n",
    "for clean_words in train_df.clean_words:   \n",
    "    point = 0\n",
    "    for word in clean_words:\n",
    "        if word in keyWords:              ## <<== 算分數\n",
    "            point+=keyWords[word]\n",
    "    \n",
    "    pred = 0\n",
    "    if point >= 50:                       ## <<== 總分大於50就是肥胖\n",
    "        pred = 1\n",
    "    \n",
    "    points.append(point)\n",
    "    preds.append(pred)\n",
    "    \n",
    "train_df[\"points\"] = points\n",
    "train_df[\"preds\"] = preds\n",
    "train_df.to_csv(\"point_train.csv\")          ##<<== 儲存預測結果 \n",
    "\n",
    "\n",
    "pred = preds\n",
    "true = list(train_df.y)\n",
    "\n",
    "## 計算confusion_matrix和相關驗證數值\n",
    "c = confusion_matrix(true, pred)\n",
    "print(\"confusion_matrix: \\n\", c)\n",
    "accuracy = accuracy_score(true, pred)\n",
    "precision = precision_score(true, pred)\n",
    "recall = recall_score(true, pred)\n",
    "f1 = f1_score(true, pred)\n",
    "print(\"precison:\", precision)\n",
    "print(\"recall:\", recall)\n",
    "print(\"accuracy:\", accuracy)\n",
    "print(\"f1:\", f1)"
   ]
  },
  {
   "cell_type": "code",
   "execution_count": null,
   "id": "de8a21e7",
   "metadata": {},
   "outputs": [],
   "source": []
  },
  {
   "cell_type": "markdown",
   "id": "743fcd08",
   "metadata": {},
   "source": [
    "# 驗證集結果，儲存 >> sample_submission.csv  此方法只有0.48分"
   ]
  },
  {
   "cell_type": "code",
   "execution_count": 5,
   "id": "c42475fa",
   "metadata": {},
   "outputs": [],
   "source": [
    "# validation_data_val\n",
    "points = []\n",
    "preds = []\n",
    "for clean_words in val_df.clean_words:   \n",
    "    point = 0\n",
    "    for word in clean_words:\n",
    "        if word in keyWords:              ## <<== 算分數\n",
    "            point+=keyWords[word]\n",
    "    \n",
    "    pred = 0\n",
    "    if point >= 50:                       ## <<== 總分大於50就是肥胖\n",
    "        pred = 1\n",
    "    \n",
    "    points.append(point)\n",
    "    preds.append(pred)\n",
    "\n",
    "\n",
    "val_df[\"Obesity\"] = preds\n",
    "val_df = val_df.drop(columns=[\"clean_words\"])                ## 刪除文字那一行\n",
    "val_df.to_csv(\"sample_submission.csv\", index=False)          ##<<== 儲存預測結果 "
   ]
  },
  {
   "cell_type": "code",
   "execution_count": null,
   "id": "b76b8a55",
   "metadata": {},
   "outputs": [],
   "source": []
  }
 ],
 "metadata": {
  "kernelspec": {
   "display_name": "Python 3",
   "language": "python",
   "name": "python3"
  },
  "language_info": {
   "codemirror_mode": {
    "name": "ipython",
    "version": 3
   },
   "file_extension": ".py",
   "mimetype": "text/x-python",
   "name": "python",
   "nbconvert_exporter": "python",
   "pygments_lexer": "ipython3",
   "version": "3.8.8"
  }
 },
 "nbformat": 4,
 "nbformat_minor": 5
}
